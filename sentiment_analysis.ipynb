{
  "nbformat": 4,
  "nbformat_minor": 0,
  "metadata": {
    "colab": {
      "provenance": [],
      "gpuType": "T4",
      "include_colab_link": true
    },
    "kernelspec": {
      "name": "python3",
      "display_name": "Python 3"
    },
    "language_info": {
      "name": "python"
    },
    "gpuClass": "standard",
    "accelerator": "GPU"
  },
  "cells": [
    {
      "cell_type": "markdown",
      "metadata": {
        "id": "view-in-github",
        "colab_type": "text"
      },
      "source": [
        "<a href=\"https://colab.research.google.com/github/aaolcay/Convolutional-Neural-Network-Examples/blob/main/sentiment_analysis.ipynb\" target=\"_parent\"><img src=\"https://colab.research.google.com/assets/colab-badge.svg\" alt=\"Open In Colab\"/></a>"
      ]
    },
    {
      "cell_type": "code",
      "execution_count": 1,
      "metadata": {
        "id": "D0bxQMAaQab2"
      },
      "outputs": [],
      "source": [
        "import pandas as pd\n",
        "import os\n",
        "import matplotlib.pyplot as plt\n",
        "import numpy as np\n",
        "from PIL import Image"
      ]
    },
    {
      "cell_type": "markdown",
      "source": [
        "### **Download Kaggle Dataset** "
      ],
      "metadata": {
        "id": "9MqWkxseJr4L"
      }
    },
    {
      "cell_type": "code",
      "source": [
        "# Install kaggle python library\n",
        "!pip install kaggle"
      ],
      "metadata": {
        "id": "grS6ApxUHSZ4"
      },
      "execution_count": null,
      "outputs": []
    },
    {
      "cell_type": "code",
      "source": [
        "from google.colab import drive\n",
        "drive.mount('/gdrive')\n",
        "%cd /gdrive"
      ],
      "metadata": {
        "colab": {
          "base_uri": "https://localhost:8080/"
        },
        "id": "_uE9ydGFHYtT",
        "outputId": "a8824a63-b28d-498d-f721-c6adae16fa74"
      },
      "execution_count": 3,
      "outputs": [
        {
          "output_type": "stream",
          "name": "stdout",
          "text": [
            "Mounted at /gdrive\n",
            "/gdrive\n"
          ]
        }
      ]
    },
    {
      "cell_type": "markdown",
      "source": [
        "Note that you need to create `New API Token` from your `Kaggle` account and upload it into a folder created for the data. In this example, I put downloaded `json` file into a folder called `Data`. "
      ],
      "metadata": {
        "id": "cRSj1j2DcQa6"
      }
    },
    {
      "cell_type": "code",
      "source": [
        "os.environ['KAGGLE_CONFIG_DIR'] = '/gdrive/MyDrive/Colab Notebooks/Sentiment Analysis/Data'"
      ],
      "metadata": {
        "id": "ppBto7c1ItHS"
      },
      "execution_count": 4,
      "outputs": []
    },
    {
      "cell_type": "code",
      "source": [
        "# changing the working directory\n",
        "%cd '/gdrive/MyDrive/Colab Notebooks/Sentiment Analysis/Data'"
      ],
      "metadata": {
        "colab": {
          "base_uri": "https://localhost:8080/"
        },
        "id": "bmjQKf-bI5se",
        "outputId": "bdc747a3-6d3e-4c76-9982-bb9929189ce7"
      },
      "execution_count": 5,
      "outputs": [
        {
          "output_type": "stream",
          "name": "stdout",
          "text": [
            "/gdrive/MyDrive/Colab Notebooks/Sentiment Analysis/Data\n"
          ]
        }
      ]
    },
    {
      "cell_type": "code",
      "source": [
        "# checking the current working directory\n",
        "!pwd"
      ],
      "metadata": {
        "colab": {
          "base_uri": "https://localhost:8080/"
        },
        "id": "PKjBWdnTJdhw",
        "outputId": "6b6dce23-6d5e-441f-f540-a3b920547bb5"
      },
      "execution_count": 6,
      "outputs": [
        {
          "output_type": "stream",
          "name": "stdout",
          "text": [
            "/gdrive/MyDrive/Colab Notebooks/Sentiment Analysis/Data\n"
          ]
        }
      ]
    },
    {
      "cell_type": "markdown",
      "source": [
        "Open Kaggle link in which the dataset was located, `Copy API command` and paste the cell below after `!`"
      ],
      "metadata": {
        "id": "OQ_Q072nc3YO"
      }
    },
    {
      "cell_type": "code",
      "source": [
        "!kaggle datasets download -d deadskull7/fer2013"
      ],
      "metadata": {
        "colab": {
          "base_uri": "https://localhost:8080/"
        },
        "id": "bBGFNLnFJC8Y",
        "outputId": "99f43903-c202-4f5f-a511-bc4ff2e78d11"
      },
      "execution_count": 7,
      "outputs": [
        {
          "output_type": "stream",
          "name": "stdout",
          "text": [
            "Downloading fer2013.zip to /gdrive/MyDrive/Colab Notebooks/Sentiment Analysis/Data\n",
            " 90% 87.0M/96.6M [00:00<00:00, 164MB/s]\n",
            "100% 96.6M/96.6M [00:00<00:00, 168MB/s]\n"
          ]
        }
      ]
    },
    {
      "cell_type": "code",
      "source": [
        "!unzip \\*.zip && rm *.zip"
      ],
      "metadata": {
        "colab": {
          "base_uri": "https://localhost:8080/"
        },
        "id": "MGz9jD-VJHrN",
        "outputId": "4e4e9109-e0ed-4edf-d43b-8d9ec60d9580"
      },
      "execution_count": 8,
      "outputs": [
        {
          "output_type": "stream",
          "name": "stdout",
          "text": [
            "Archive:  fer2013.zip\n",
            "  inflating: fer2013.csv             \n"
          ]
        }
      ]
    },
    {
      "cell_type": "markdown",
      "source": [
        "### **Prepare Data**"
      ],
      "metadata": {
        "id": "qXxvxMOGJ6CS"
      }
    },
    {
      "cell_type": "code",
      "source": [
        "!ls"
      ],
      "metadata": {
        "colab": {
          "base_uri": "https://localhost:8080/"
        },
        "id": "AcpepgPoKaZk",
        "outputId": "8e28bf38-6ec8-47c3-acaa-44e1aef90cf2"
      },
      "execution_count": 9,
      "outputs": [
        {
          "output_type": "stream",
          "name": "stdout",
          "text": [
            "fer2013.csv  kaggle.json\n"
          ]
        }
      ]
    },
    {
      "cell_type": "code",
      "source": [
        "data = pd.read_csv('fer2013.csv')"
      ],
      "metadata": {
        "id": "AFrbLHXFJnaI"
      },
      "execution_count": 10,
      "outputs": []
    },
    {
      "cell_type": "code",
      "source": [
        "data.head(10)"
      ],
      "metadata": {
        "colab": {
          "base_uri": "https://localhost:8080/",
          "height": 363
        },
        "id": "GEBEwUJcKdIc",
        "outputId": "be121425-5fa7-4b09-92ab-74eacbbdb026"
      },
      "execution_count": 11,
      "outputs": [
        {
          "output_type": "execute_result",
          "data": {
            "text/plain": [
              "   emotion                                             pixels     Usage\n",
              "0        0  70 80 82 72 58 58 60 63 54 58 60 48 89 115 121...  Training\n",
              "1        0  151 150 147 155 148 133 111 140 170 174 182 15...  Training\n",
              "2        2  231 212 156 164 174 138 161 173 182 200 106 38...  Training\n",
              "3        4  24 32 36 30 32 23 19 20 30 41 21 22 32 34 21 1...  Training\n",
              "4        6  4 0 0 0 0 0 0 0 0 0 0 0 3 15 23 28 48 50 58 84...  Training\n",
              "5        2  55 55 55 55 55 54 60 68 54 85 151 163 170 179 ...  Training\n",
              "6        4  20 17 19 21 25 38 42 42 46 54 56 62 63 66 82 1...  Training\n",
              "7        3  77 78 79 79 78 75 60 55 47 48 58 73 77 79 57 5...  Training\n",
              "8        3  85 84 90 121 101 102 133 153 153 169 177 189 1...  Training\n",
              "9        2  255 254 255 254 254 179 122 107 95 124 149 150...  Training"
            ],
            "text/html": [
              "\n",
              "  <div id=\"df-891ddd8c-ae73-4271-af8c-862a80abdb78\">\n",
              "    <div class=\"colab-df-container\">\n",
              "      <div>\n",
              "<style scoped>\n",
              "    .dataframe tbody tr th:only-of-type {\n",
              "        vertical-align: middle;\n",
              "    }\n",
              "\n",
              "    .dataframe tbody tr th {\n",
              "        vertical-align: top;\n",
              "    }\n",
              "\n",
              "    .dataframe thead th {\n",
              "        text-align: right;\n",
              "    }\n",
              "</style>\n",
              "<table border=\"1\" class=\"dataframe\">\n",
              "  <thead>\n",
              "    <tr style=\"text-align: right;\">\n",
              "      <th></th>\n",
              "      <th>emotion</th>\n",
              "      <th>pixels</th>\n",
              "      <th>Usage</th>\n",
              "    </tr>\n",
              "  </thead>\n",
              "  <tbody>\n",
              "    <tr>\n",
              "      <th>0</th>\n",
              "      <td>0</td>\n",
              "      <td>70 80 82 72 58 58 60 63 54 58 60 48 89 115 121...</td>\n",
              "      <td>Training</td>\n",
              "    </tr>\n",
              "    <tr>\n",
              "      <th>1</th>\n",
              "      <td>0</td>\n",
              "      <td>151 150 147 155 148 133 111 140 170 174 182 15...</td>\n",
              "      <td>Training</td>\n",
              "    </tr>\n",
              "    <tr>\n",
              "      <th>2</th>\n",
              "      <td>2</td>\n",
              "      <td>231 212 156 164 174 138 161 173 182 200 106 38...</td>\n",
              "      <td>Training</td>\n",
              "    </tr>\n",
              "    <tr>\n",
              "      <th>3</th>\n",
              "      <td>4</td>\n",
              "      <td>24 32 36 30 32 23 19 20 30 41 21 22 32 34 21 1...</td>\n",
              "      <td>Training</td>\n",
              "    </tr>\n",
              "    <tr>\n",
              "      <th>4</th>\n",
              "      <td>6</td>\n",
              "      <td>4 0 0 0 0 0 0 0 0 0 0 0 3 15 23 28 48 50 58 84...</td>\n",
              "      <td>Training</td>\n",
              "    </tr>\n",
              "    <tr>\n",
              "      <th>5</th>\n",
              "      <td>2</td>\n",
              "      <td>55 55 55 55 55 54 60 68 54 85 151 163 170 179 ...</td>\n",
              "      <td>Training</td>\n",
              "    </tr>\n",
              "    <tr>\n",
              "      <th>6</th>\n",
              "      <td>4</td>\n",
              "      <td>20 17 19 21 25 38 42 42 46 54 56 62 63 66 82 1...</td>\n",
              "      <td>Training</td>\n",
              "    </tr>\n",
              "    <tr>\n",
              "      <th>7</th>\n",
              "      <td>3</td>\n",
              "      <td>77 78 79 79 78 75 60 55 47 48 58 73 77 79 57 5...</td>\n",
              "      <td>Training</td>\n",
              "    </tr>\n",
              "    <tr>\n",
              "      <th>8</th>\n",
              "      <td>3</td>\n",
              "      <td>85 84 90 121 101 102 133 153 153 169 177 189 1...</td>\n",
              "      <td>Training</td>\n",
              "    </tr>\n",
              "    <tr>\n",
              "      <th>9</th>\n",
              "      <td>2</td>\n",
              "      <td>255 254 255 254 254 179 122 107 95 124 149 150...</td>\n",
              "      <td>Training</td>\n",
              "    </tr>\n",
              "  </tbody>\n",
              "</table>\n",
              "</div>\n",
              "      <button class=\"colab-df-convert\" onclick=\"convertToInteractive('df-891ddd8c-ae73-4271-af8c-862a80abdb78')\"\n",
              "              title=\"Convert this dataframe to an interactive table.\"\n",
              "              style=\"display:none;\">\n",
              "        \n",
              "  <svg xmlns=\"http://www.w3.org/2000/svg\" height=\"24px\"viewBox=\"0 0 24 24\"\n",
              "       width=\"24px\">\n",
              "    <path d=\"M0 0h24v24H0V0z\" fill=\"none\"/>\n",
              "    <path d=\"M18.56 5.44l.94 2.06.94-2.06 2.06-.94-2.06-.94-.94-2.06-.94 2.06-2.06.94zm-11 1L8.5 8.5l.94-2.06 2.06-.94-2.06-.94L8.5 2.5l-.94 2.06-2.06.94zm10 10l.94 2.06.94-2.06 2.06-.94-2.06-.94-.94-2.06-.94 2.06-2.06.94z\"/><path d=\"M17.41 7.96l-1.37-1.37c-.4-.4-.92-.59-1.43-.59-.52 0-1.04.2-1.43.59L10.3 9.45l-7.72 7.72c-.78.78-.78 2.05 0 2.83L4 21.41c.39.39.9.59 1.41.59.51 0 1.02-.2 1.41-.59l7.78-7.78 2.81-2.81c.8-.78.8-2.07 0-2.86zM5.41 20L4 18.59l7.72-7.72 1.47 1.35L5.41 20z\"/>\n",
              "  </svg>\n",
              "      </button>\n",
              "      \n",
              "  <style>\n",
              "    .colab-df-container {\n",
              "      display:flex;\n",
              "      flex-wrap:wrap;\n",
              "      gap: 12px;\n",
              "    }\n",
              "\n",
              "    .colab-df-convert {\n",
              "      background-color: #E8F0FE;\n",
              "      border: none;\n",
              "      border-radius: 50%;\n",
              "      cursor: pointer;\n",
              "      display: none;\n",
              "      fill: #1967D2;\n",
              "      height: 32px;\n",
              "      padding: 0 0 0 0;\n",
              "      width: 32px;\n",
              "    }\n",
              "\n",
              "    .colab-df-convert:hover {\n",
              "      background-color: #E2EBFA;\n",
              "      box-shadow: 0px 1px 2px rgba(60, 64, 67, 0.3), 0px 1px 3px 1px rgba(60, 64, 67, 0.15);\n",
              "      fill: #174EA6;\n",
              "    }\n",
              "\n",
              "    [theme=dark] .colab-df-convert {\n",
              "      background-color: #3B4455;\n",
              "      fill: #D2E3FC;\n",
              "    }\n",
              "\n",
              "    [theme=dark] .colab-df-convert:hover {\n",
              "      background-color: #434B5C;\n",
              "      box-shadow: 0px 1px 3px 1px rgba(0, 0, 0, 0.15);\n",
              "      filter: drop-shadow(0px 1px 2px rgba(0, 0, 0, 0.3));\n",
              "      fill: #FFFFFF;\n",
              "    }\n",
              "  </style>\n",
              "\n",
              "      <script>\n",
              "        const buttonEl =\n",
              "          document.querySelector('#df-891ddd8c-ae73-4271-af8c-862a80abdb78 button.colab-df-convert');\n",
              "        buttonEl.style.display =\n",
              "          google.colab.kernel.accessAllowed ? 'block' : 'none';\n",
              "\n",
              "        async function convertToInteractive(key) {\n",
              "          const element = document.querySelector('#df-891ddd8c-ae73-4271-af8c-862a80abdb78');\n",
              "          const dataTable =\n",
              "            await google.colab.kernel.invokeFunction('convertToInteractive',\n",
              "                                                     [key], {});\n",
              "          if (!dataTable) return;\n",
              "\n",
              "          const docLinkHtml = 'Like what you see? Visit the ' +\n",
              "            '<a target=\"_blank\" href=https://colab.research.google.com/notebooks/data_table.ipynb>data table notebook</a>'\n",
              "            + ' to learn more about interactive tables.';\n",
              "          element.innerHTML = '';\n",
              "          dataTable['output_type'] = 'display_data';\n",
              "          await google.colab.output.renderOutput(dataTable, element);\n",
              "          const docLink = document.createElement('div');\n",
              "          docLink.innerHTML = docLinkHtml;\n",
              "          element.appendChild(docLink);\n",
              "        }\n",
              "      </script>\n",
              "    </div>\n",
              "  </div>\n",
              "  "
            ]
          },
          "metadata": {},
          "execution_count": 11
        }
      ]
    },
    {
      "cell_type": "code",
      "source": [
        "data['Usage'].value_counts()"
      ],
      "metadata": {
        "colab": {
          "base_uri": "https://localhost:8080/"
        },
        "id": "SGkSW2RqKwjU",
        "outputId": "8bec93db-8798-4d59-c71f-9db45025717a"
      },
      "execution_count": 12,
      "outputs": [
        {
          "output_type": "execute_result",
          "data": {
            "text/plain": [
              "Training       28709\n",
              "PublicTest      3589\n",
              "PrivateTest     3589\n",
              "Name: Usage, dtype: int64"
            ]
          },
          "metadata": {},
          "execution_count": 12
        }
      ]
    },
    {
      "cell_type": "markdown",
      "source": [
        "#### **Split Data into Train and Test**"
      ],
      "metadata": {
        "id": "DUXq9BVALAbd"
      }
    },
    {
      "cell_type": "code",
      "source": [
        "train_data = data[data.Usage=='Training']"
      ],
      "metadata": {
        "id": "KuBAAiSzKtUS"
      },
      "execution_count": 13,
      "outputs": []
    },
    {
      "cell_type": "code",
      "source": [
        "train_data_pixels = train_data.pixels"
      ],
      "metadata": {
        "id": "ORPnY3beLOZx"
      },
      "execution_count": 14,
      "outputs": []
    },
    {
      "cell_type": "code",
      "source": [
        "train_data_pixels = train_data_pixels.str.split(\" \").tolist()"
      ],
      "metadata": {
        "id": "YP-v-8lNLvzB"
      },
      "execution_count": 15,
      "outputs": []
    },
    {
      "cell_type": "code",
      "source": [
        "train_data_pixels = pd.DataFrame(train_data_pixels, dtype=int)"
      ],
      "metadata": {
        "id": "gd2QXqWqMOOi"
      },
      "execution_count": null,
      "outputs": []
    },
    {
      "cell_type": "code",
      "source": [
        "train_data_image = train_data_pixels.values"
      ],
      "metadata": {
        "id": "Zg4LNNZ2Mz85"
      },
      "execution_count": 17,
      "outputs": []
    },
    {
      "cell_type": "code",
      "source": [
        "train_data_image.astype(np.float)"
      ],
      "metadata": {
        "id": "1Xkqs1-9NtD4"
      },
      "execution_count": null,
      "outputs": []
    },
    {
      "cell_type": "code",
      "source": [
        "test_data = data[data.Usage=='PublicTest']\n",
        "test_data_pixels = test_data.pixels\n",
        "test_data_pixels = test_data_pixels.str.split(\" \").tolist()\n",
        "test_data_pixels = pd.DataFrame(test_data_pixels, dtype=int)\n",
        "test_data_image = test_data_pixels.values\n",
        "test_data_image.astype(np.float)"
      ],
      "metadata": {
        "id": "xOpx_QUwL9F8"
      },
      "execution_count": null,
      "outputs": []
    },
    {
      "cell_type": "markdown",
      "source": [
        "#### **Targets**\n",
        "For training data"
      ],
      "metadata": {
        "id": "ic6q--YfdlrL"
      }
    },
    {
      "cell_type": "code",
      "source": [
        "# Find number of targets/labels/class\n",
        "num_class = len(np.unique(data.emotion.values))"
      ],
      "metadata": {
        "id": "IkpObW77ehFx"
      },
      "execution_count": 20,
      "outputs": []
    },
    {
      "cell_type": "code",
      "source": [
        "train_labels = train_data[\"emotion\"]"
      ],
      "metadata": {
        "id": "IF5v6ZTlPebi"
      },
      "execution_count": 21,
      "outputs": []
    },
    {
      "cell_type": "code",
      "source": [
        "train_labels = train_labels.values"
      ],
      "metadata": {
        "id": "fqB1wXotd4Dt"
      },
      "execution_count": 22,
      "outputs": []
    },
    {
      "cell_type": "markdown",
      "source": [
        "We apply one-hot coding to use softmax in the model to do prediction for each class."
      ],
      "metadata": {
        "id": "21gmR4U5eAf6"
      }
    },
    {
      "cell_type": "code",
      "source": [
        "import tensorflow.keras as keras\n",
        "train_labels = keras.utils.to_categorical(train_labels, num_class)"
      ],
      "metadata": {
        "id": "WTUnBTgJd48u"
      },
      "execution_count": 23,
      "outputs": []
    },
    {
      "cell_type": "code",
      "source": [
        "train_labels.shape"
      ],
      "metadata": {
        "colab": {
          "base_uri": "https://localhost:8080/"
        },
        "id": "IFXRJ50Ae2fs",
        "outputId": "4b75919b-83e7-429c-ad3f-b2d2e0d8bf74"
      },
      "execution_count": 24,
      "outputs": [
        {
          "output_type": "execute_result",
          "data": {
            "text/plain": [
              "(28709, 7)"
            ]
          },
          "metadata": {},
          "execution_count": 24
        }
      ]
    },
    {
      "cell_type": "markdown",
      "source": [
        "For test data"
      ],
      "metadata": {
        "id": "6vbuzH6SfQef"
      }
    },
    {
      "cell_type": "code",
      "source": [
        "test_labels = test_data[\"emotion\"]\n",
        "test_labels = test_labels.values\n",
        "test_labels = keras.utils.to_categorical(test_labels, num_class)"
      ],
      "metadata": {
        "id": "h9tstqzPe5RG"
      },
      "execution_count": 25,
      "outputs": []
    },
    {
      "cell_type": "code",
      "source": [
        "test_labels.shape"
      ],
      "metadata": {
        "colab": {
          "base_uri": "https://localhost:8080/"
        },
        "id": "qXpbENLlffRs",
        "outputId": "47864c33-c303-4c91-e64b-b969eb7fe9e4"
      },
      "execution_count": 26,
      "outputs": [
        {
          "output_type": "execute_result",
          "data": {
            "text/plain": [
              "(3589, 7)"
            ]
          },
          "metadata": {},
          "execution_count": 26
        }
      ]
    },
    {
      "cell_type": "markdown",
      "source": [
        "**Summary of dataset**\n",
        "\n",
        "`train_data_image`: train data (28709, 2304)\n",
        "\n",
        "`test_data_image`: test data (3589, 2304)\n",
        "\n",
        "`train_labels`: train labels (28709, 7)\n",
        "\n",
        "`test_labels`: test labels (3589, 7)"
      ],
      "metadata": {
        "id": "CAP3I0n0f32T"
      }
    },
    {
      "cell_type": "code",
      "source": [
        "train_data_image.shape"
      ],
      "metadata": {
        "colab": {
          "base_uri": "https://localhost:8080/"
        },
        "id": "RtXjib1zhgiK",
        "outputId": "0dc2ba33-2c96-4cef-d9b4-0d2d191e8814"
      },
      "execution_count": 27,
      "outputs": [
        {
          "output_type": "execute_result",
          "data": {
            "text/plain": [
              "(28709, 2304)"
            ]
          },
          "metadata": {},
          "execution_count": 27
        }
      ]
    },
    {
      "cell_type": "code",
      "source": [
        "# Reshape train data to make (Number of samples, 48, 48)\n",
        "train_image = np.zeros((train_data_image.shape[0],48,48))\n",
        "for i in range(train_data_image.shape[0]):\n",
        "  train_image[i,:,:] = train_data_image[i].reshape(48,48)"
      ],
      "metadata": {
        "id": "YejhDuYTflNg"
      },
      "execution_count": 28,
      "outputs": []
    },
    {
      "cell_type": "code",
      "source": [
        "train_image.shape"
      ],
      "metadata": {
        "colab": {
          "base_uri": "https://localhost:8080/"
        },
        "id": "k2Z_IAEQgFFV",
        "outputId": "b873b154-4573-4bb6-b796-8fba9d0865a4"
      },
      "execution_count": 29,
      "outputs": [
        {
          "output_type": "execute_result",
          "data": {
            "text/plain": [
              "(28709, 48, 48)"
            ]
          },
          "metadata": {},
          "execution_count": 29
        }
      ]
    },
    {
      "cell_type": "code",
      "source": [
        "test_data_image.shape"
      ],
      "metadata": {
        "colab": {
          "base_uri": "https://localhost:8080/"
        },
        "id": "AiBazqQoht8r",
        "outputId": "ba05ec82-14c9-4fa7-ba67-9c94621f587f"
      },
      "execution_count": 30,
      "outputs": [
        {
          "output_type": "execute_result",
          "data": {
            "text/plain": [
              "(3589, 2304)"
            ]
          },
          "metadata": {},
          "execution_count": 30
        }
      ]
    },
    {
      "cell_type": "code",
      "source": [
        "# Reshape test data to make (Number of samples, 48, 48)\n",
        "test_image = np.zeros((test_data_image.shape[0],48,48))\n",
        "for i in range(test_data_image.shape[0]):\n",
        "  test_image[i,:,:] = test_data_image[i].reshape(48,48)"
      ],
      "metadata": {
        "id": "WzIySttKgyjc"
      },
      "execution_count": 31,
      "outputs": []
    },
    {
      "cell_type": "code",
      "source": [
        "test_image.shape"
      ],
      "metadata": {
        "colab": {
          "base_uri": "https://localhost:8080/"
        },
        "id": "Jj7eNRaJhoX6",
        "outputId": "d13379ed-4a20-4163-e635-908e0d2c6f2b"
      },
      "execution_count": 32,
      "outputs": [
        {
          "output_type": "execute_result",
          "data": {
            "text/plain": [
              "(3589, 48, 48)"
            ]
          },
          "metadata": {},
          "execution_count": 32
        }
      ]
    },
    {
      "cell_type": "code",
      "source": [
        "train_labels.shape"
      ],
      "metadata": {
        "colab": {
          "base_uri": "https://localhost:8080/"
        },
        "id": "uR6hPI-WhqO-",
        "outputId": "9e7ff286-ae0f-4fde-a0b9-67226096f25e"
      },
      "execution_count": 33,
      "outputs": [
        {
          "output_type": "execute_result",
          "data": {
            "text/plain": [
              "(28709, 7)"
            ]
          },
          "metadata": {},
          "execution_count": 33
        }
      ]
    },
    {
      "cell_type": "code",
      "source": [
        "test_labels.shape"
      ],
      "metadata": {
        "colab": {
          "base_uri": "https://localhost:8080/"
        },
        "id": "UhPVuUMoh1Ig",
        "outputId": "8efa73b6-9d04-4214-865d-d8d8ba54e100"
      },
      "execution_count": 34,
      "outputs": [
        {
          "output_type": "execute_result",
          "data": {
            "text/plain": [
              "(3589, 7)"
            ]
          },
          "metadata": {},
          "execution_count": 34
        }
      ]
    },
    {
      "cell_type": "markdown",
      "source": [
        "**Summary of dataset after reshaping both train and test data**\n",
        "\n",
        "`train_image`: train data (28709, 48, 48)\n",
        "\n",
        "`test_image`: test data (3589, 48, 48)\n",
        "\n",
        "`train_labels`: train labels (28709, 7)\n",
        "\n",
        "`test_labels`: test labels (3589, 7)"
      ],
      "metadata": {
        "id": "XFmoO1Wwh9TL"
      }
    },
    {
      "cell_type": "code",
      "source": [
        "fig = plt.figure(figsize=(5,5))\n",
        "labels_class = ['Angry', 'Disgust', 'Fear', 'Happy', 'Sad', 'Surprise', 'Neutral']\n",
        "for k in range(20):\n",
        "  fig.add_subplot(4,5,k+1)\n",
        "  plt.imshow(train_image[k,:,:], cmap='gray')\n",
        "  label = np.where(train_labels[k]==1)\n",
        "  num_label = label[0][0]\n",
        "  plt.title(f'{labels_class[num_label]}')\n",
        "  fig.tight_layout(pad=0.2)"
      ],
      "metadata": {
        "colab": {
          "base_uri": "https://localhost:8080/",
          "height": 518
        },
        "id": "n6BaavKvh2rP",
        "outputId": "99b070dd-1e79-48b7-fa2c-45fa9d6345ae"
      },
      "execution_count": 35,
      "outputs": [
        {
          "output_type": "display_data",
          "data": {
            "text/plain": [
              "<Figure size 500x500 with 20 Axes>"
            ],
            "image/png": "[encoded data removed]"
          },
          "metadata": {}
        }
      ]
    },
    {
      "cell_type": "markdown",
      "source": [
        "See number of images in training and test sets"
      ],
      "metadata": {
        "id": "iV_-9mU_kejf"
      }
    },
    {
      "cell_type": "code",
      "source": [
        "emotions = train_data.emotion.values\n",
        "num_emotions = len(np.unique(emotions))\n",
        "number_class = np.zeros(num_emotions)\n",
        "for i in range(num_emotions):\n",
        "  number_class[i] = len(np.where(emotions==i)[0])\n",
        "plt.figure()\n",
        "plt.bar(labels_class,number_class)\n",
        "plt.ylabel('Number of Samples')\n",
        "plt.title('Data Distribution in Train Set')\n",
        "plt.show()"
      ],
      "metadata": {
        "colab": {
          "base_uri": "https://localhost:8080/",
          "height": 452
        },
        "id": "a7M5aYsvezS6",
        "outputId": "0d671b9c-e215-444a-fd7d-a7d5300f8ce4"
      },
      "execution_count": 36,
      "outputs": [
        {
          "output_type": "display_data",
          "data": {
            "text/plain": [
              "<Figure size 640x480 with 1 Axes>"
            ],
            "image/png": "[encoded data removed]"
          },
          "metadata": {}
        }
      ]
    },
    {
      "cell_type": "code",
      "source": [
        "emotions_test = test_data.emotion.values\n",
        "num_emotions_test = len(np.unique(emotions_test))\n",
        "number_class_test = np.zeros(num_emotions_test)\n",
        "for i in range(num_emotions_test):\n",
        "  number_class_test[i] = len(np.where(emotions_test==i)[0])\n",
        "plt.figure()\n",
        "plt.bar(labels_class,number_class_test)\n",
        "plt.ylabel('Number of Samples')\n",
        "plt.title('Data Distribution in Test Set')\n",
        "plt.show()"
      ],
      "metadata": {
        "colab": {
          "base_uri": "https://localhost:8080/",
          "height": 452
        },
        "id": "D0R9kUPLmbSr",
        "outputId": "2f43affe-e6fc-4e1a-be4c-ab85bb375bfd"
      },
      "execution_count": 37,
      "outputs": [
        {
          "output_type": "display_data",
          "data": {
            "text/plain": [
              "<Figure size 640x480 with 1 Axes>"
            ],
            "image/png": "[encoded data removed]"
          },
          "metadata": {}
        }
      ]
    },
    {
      "cell_type": "markdown",
      "source": [
        "As seen, the images of disgust emotion is very less. Therefore, we fit the number of other classes to 3000 in training dataset and to 300 in the test dataset."
      ],
      "metadata": {
        "id": "rVPOnjRdzL0j"
      }
    },
    {
      "cell_type": "code",
      "source": [
        "train_labels.shape"
      ],
      "metadata": {
        "colab": {
          "base_uri": "https://localhost:8080/"
        },
        "id": "tMDGTvcwBVZg",
        "outputId": "03bec65f-c85d-4ad1-e7fc-0c1afc6898bb"
      },
      "execution_count": 38,
      "outputs": [
        {
          "output_type": "execute_result",
          "data": {
            "text/plain": [
              "(28709, 7)"
            ]
          },
          "metadata": {},
          "execution_count": 38
        }
      ]
    },
    {
      "cell_type": "code",
      "source": [
        "import random\n",
        "labels = np.array([[1,0,0,0,0,0,0],\n",
        "                   [0,1,0,0,0,0,0],\n",
        "                   [0,0,1,0,0,0,0],\n",
        "                   [0,0,0,1,0,0,0],\n",
        "                   [0,0,0,0,1,0,0],\n",
        "                   [0,0,0,0,0,1,0],\n",
        "                   [0,0,0,0,0,0,1]], dtype=\"float32\")\n",
        "train = np.zeros((3000*6 + len(np.where(emotions==1)[0]), 48, 48))\n",
        "train_label = np.zeros((3000*6 + len(np.where(emotions==1)[0]), 7))\n",
        "count = 0\n",
        "for i in range(7):\n",
        "  start = count\n",
        "  classes = np.where(np.all(train_labels == labels[i], axis=1))[0]\n",
        "  if i == 1:\n",
        "    end = start + len(classes)\n",
        "    print(f\"start:{start}, end:{end}\")\n",
        "    train[start:end,:,:] = train_image[classes,:,:]\n",
        "    train_label[start:end,:] = train_labels[classes,:]\n",
        "  else:\n",
        "    end = start + 3000\n",
        "    print(f\"start:{start}, end:{end}\")\n",
        "    train[start:end,:,:] = train_image[classes[0:3000],:,:]\n",
        "    train_label[start:end,:] = train_labels[classes[0:3000],:]\n",
        "  count = end"
      ],
      "metadata": {
        "colab": {
          "base_uri": "https://localhost:8080/"
        },
        "id": "VUXqr6vEzkc-",
        "outputId": "7b9e8a90-2650-47ec-a241-dae9336d1cb7"
      },
      "execution_count": 39,
      "outputs": [
        {
          "output_type": "stream",
          "name": "stdout",
          "text": [
            "start:0, end:3000\n",
            "start:3000, end:3436\n",
            "start:3436, end:6436\n",
            "start:6436, end:9436\n",
            "start:9436, end:12436\n",
            "start:12436, end:15436\n",
            "start:15436, end:18436\n"
          ]
        }
      ]
    },
    {
      "cell_type": "code",
      "source": [
        "train_image = train\n",
        "train_labels = train_label"
      ],
      "metadata": {
        "id": "ehBBUQDuETc-"
      },
      "execution_count": 40,
      "outputs": []
    },
    {
      "cell_type": "code",
      "source": [
        "number_class = np.zeros(7)\n",
        "for i in range(7):\n",
        "  number_class[i] = len(np.where(np.all(train_labels == labels[i], axis=1))[0])\n",
        "\n",
        "plt.figure()\n",
        "plt.bar(labels_class,number_class)\n",
        "plt.ylabel('Number of Samples')\n",
        "plt.title('Data Distribution in Train Set')\n",
        "plt.show()"
      ],
      "metadata": {
        "colab": {
          "base_uri": "https://localhost:8080/",
          "height": 452
        },
        "id": "aSsWFSGk87U1",
        "outputId": "aa2adfd2-b49f-4053-d63c-aa01ef00247e"
      },
      "execution_count": 41,
      "outputs": [
        {
          "output_type": "display_data",
          "data": {
            "text/plain": [
              "<Figure size 640x480 with 1 Axes>"
            ],
            "image/png": "[encoded data removed]"
          },
          "metadata": {}
        }
      ]
    },
    {
      "cell_type": "code",
      "source": [
        "test = np.zeros((400*6 + len(np.where(np.all(test_labels == labels[1], axis=1))[0]), 48, 48))\n",
        "test_label = np.zeros((400*6 + len(np.where(np.all(test_labels == labels[1], axis=1))[0]), 7))\n",
        "count = 0\n",
        "for i in range(7):\n",
        "  start = count\n",
        "  classes = np.where(np.all(test_labels == labels[i], axis=1))[0]\n",
        "  if i == 1:\n",
        "    end = start + len(classes)\n",
        "    print(f\"start:{start}, end:{end}\")\n",
        "    test[start:end,:,:] = test_image[classes,:,:]\n",
        "    test_label[start:end,:] = test_labels[classes,:]\n",
        "  else:\n",
        "    end = start + 400\n",
        "    print(f\"start:{start}, end:{end}\")\n",
        "    test[start:end,:,:] = test_image[classes[0:400],:,:]\n",
        "    test_label[start:end,:] = test_labels[classes[0:400],:]\n",
        "  count = end"
      ],
      "metadata": {
        "colab": {
          "base_uri": "https://localhost:8080/"
        },
        "id": "fDzU2oZTFEC0",
        "outputId": "8a656040-d916-45f7-ddb8-bc2b43fad083"
      },
      "execution_count": 42,
      "outputs": [
        {
          "output_type": "stream",
          "name": "stdout",
          "text": [
            "start:0, end:400\n",
            "start:400, end:456\n",
            "start:456, end:856\n",
            "start:856, end:1256\n",
            "start:1256, end:1656\n",
            "start:1656, end:2056\n",
            "start:2056, end:2456\n"
          ]
        }
      ]
    },
    {
      "cell_type": "code",
      "source": [
        "test_image = test\n",
        "test_labels = test_label"
      ],
      "metadata": {
        "id": "CET3ntIWGBMJ"
      },
      "execution_count": 43,
      "outputs": []
    },
    {
      "cell_type": "code",
      "source": [
        "number_class = np.zeros(7)\n",
        "for i in range(7):\n",
        "  number_class[i] = len(np.where(np.all(test_labels == labels[i], axis=1))[0])\n",
        "\n",
        "plt.figure()\n",
        "plt.bar(labels_class,number_class)\n",
        "plt.ylabel('Number of Samples')\n",
        "plt.title('Data Distribution in Test Set')\n",
        "plt.show()"
      ],
      "metadata": {
        "colab": {
          "base_uri": "https://localhost:8080/",
          "height": 452
        },
        "id": "gj0rwxM3F65M",
        "outputId": "6f7b8c34-5d41-4b14-c043-85d4e771069d"
      },
      "execution_count": 44,
      "outputs": [
        {
          "output_type": "display_data",
          "data": {
            "text/plain": [
              "<Figure size 640x480 with 1 Axes>"
            ],
            "image/png": "[encoded data removed]"
          },
          "metadata": {}
        }
      ]
    },
    {
      "cell_type": "code",
      "source": [
        "train_image = train_image[...,np.newaxis]\n",
        "test_image = test_image[...,np.newaxis]"
      ],
      "metadata": {
        "id": "jHfFgAxMwXJ_"
      },
      "execution_count": 45,
      "outputs": []
    },
    {
      "cell_type": "code",
      "source": [
        "# Rescale Image Pixels\n",
        "train_image = (train_image-np.mean(train_image))/np.std(train_image)\n",
        "test_image = (test_image-np.mean(test_image))/np.std(test_image)"
      ],
      "metadata": {
        "id": "wL0HKrk66pJT"
      },
      "execution_count": 46,
      "outputs": []
    },
    {
      "cell_type": "code",
      "source": [
        "input_shape = (train_image.shape[1],train_image.shape[2],train_image.shape[3])"
      ],
      "metadata": {
        "id": "VpycHpY8wj4N"
      },
      "execution_count": 47,
      "outputs": []
    },
    {
      "cell_type": "code",
      "source": [
        "input_shape"
      ],
      "metadata": {
        "colab": {
          "base_uri": "https://localhost:8080/"
        },
        "id": "h4c8SsI4wuim",
        "outputId": "8e507833-4362-4ff1-e0a1-93c0259ed923"
      },
      "execution_count": 48,
      "outputs": [
        {
          "output_type": "execute_result",
          "data": {
            "text/plain": [
              "(48, 48, 1)"
            ]
          },
          "metadata": {},
          "execution_count": 48
        }
      ]
    },
    {
      "cell_type": "markdown",
      "source": [
        "### **Convolutional Neural Network**"
      ],
      "metadata": {
        "id": "wTAahF4bTzYl"
      }
    },
    {
      "cell_type": "markdown",
      "source": [
        "####**Keras API Model**\n",
        "\n",
        "We implemented the same model of [this competitor](https://www.kaggle.com/code/anantgupt/facial-emotion-recogination-91-accuracy-train-set), as he/she has gotten a quite high accuracy."
      ],
      "metadata": {
        "id": "9YEWhMODnY4P"
      }
    },
    {
      "cell_type": "code",
      "source": [
        "import tensorflow.keras as keras\n",
        "import keras.regularizers as regularizers"
      ],
      "metadata": {
        "id": "cRQJhl1pyTr-"
      },
      "execution_count": 49,
      "outputs": []
    },
    {
      "cell_type": "code",
      "source": [
        "model_input = keras.Input(shape=input_shape, name='model_input')\n",
        "\n",
        "model_conv_1 = keras.layers.Conv2D(32,\n",
        "                                  kernel_size = (3,3),\n",
        "                                  strides = (1,1),\n",
        "                                  activation='relu',\n",
        "                                  padding='same',\n",
        "                                  name = 'conv_layer_1'   \n",
        "                                  )(model_input)\n",
        "\n",
        "model_conv_2 = keras.layers.Conv2D(64,\n",
        "                                  kernel_size = (3,3),\n",
        "                                  strides = (1,1),\n",
        "                                  activation='relu',\n",
        "                                  padding='same',\n",
        "                                  name = 'conv_layer_2'   \n",
        "                                  )(model_conv_1)\n",
        "\n",
        "batch_1 = keras.layers.BatchNormalization(name='encoder_bn_1')(model_conv_2)\n",
        "\n",
        "model_max_pool = keras.layers.MaxPool2D((2,2), # grid size\n",
        "                                     name='max_pool_1')(batch_1)\n",
        "\n",
        "dropout1 = keras.layers.Dropout(0.25, name='dropout1')(model_max_pool)\n",
        "\n",
        "model_conv_3 = keras.layers.Conv2D(128,\n",
        "                                  kernel_size = (3,3),\n",
        "                                  strides = (1,1),\n",
        "                                  activation='relu',\n",
        "                                  padding='same',\n",
        "                                  kernel_regularizer=regularizers.l2(0.01),\n",
        "                                  name = 'conv_layer_3'   \n",
        "                                  )(dropout1)\n",
        "\n",
        "model_conv_4 = keras.layers.Conv2D(256,\n",
        "                                  kernel_size = (3,3),\n",
        "                                  strides = (1,1),\n",
        "                                  activation='relu',\n",
        "                                  kernel_regularizer=regularizers.l2(0.01),\n",
        "                                  name = 'conv_layer_4'   \n",
        "                                  )(model_conv_3)\n",
        "\n",
        "batch_2 = keras.layers.BatchNormalization(name='encoder_bn_2')(model_conv_4)\n",
        "\n",
        "model_max_pool2 = keras.layers.MaxPool2D((2,2), # grid size\n",
        "                                     name='max_pool_2')(batch_2)\n",
        "\n",
        "dropout2 = keras.layers.Dropout(0.25, name='dropout2')(model_max_pool2)\n",
        "\n",
        "flatten1 = keras.layers.Flatten(name='flatten_1')(dropout2)\n",
        "\n",
        "dense1 = keras.layers.Dense(1024, \n",
        "                            activation='relu', \n",
        "                            name='Dense_1')(flatten1)\n",
        "\n",
        "dropout3 = keras.layers.Dropout(0.5, name='dropout3')(dense1)\n",
        "\n",
        "output = keras.layers.Dense(num_emotions_test, \n",
        "                            activation='softmax', \n",
        "                            name='model_output')(dropout3)\n",
        "\n",
        "# Make this network a model\n",
        "model_API = keras.Model(model_input, output, name='conv_model_API_fer')    "
      ],
      "metadata": {
        "id": "8lR8OtjNmx7M"
      },
      "execution_count": 50,
      "outputs": []
    },
    {
      "cell_type": "code",
      "source": [
        "model_API.summary()"
      ],
      "metadata": {
        "colab": {
          "base_uri": "https://localhost:8080/"
        },
        "id": "ucFH4EDZ0g46",
        "outputId": "a6a22311-03f9-4dda-b307-0f704361d297"
      },
      "execution_count": 51,
      "outputs": [
        {
          "output_type": "stream",
          "name": "stdout",
          "text": [
            "Model: \"conv_model_API_fer\"\n",
            "_________________________________________________________________\n",
            " Layer (type)                Output Shape              Param #   \n",
            "=================================================================\n",
            " model_input (InputLayer)    [(None, 48, 48, 1)]       0         \n",
            "                                                                 \n",
            " conv_layer_1 (Conv2D)       (None, 48, 48, 32)        320       \n",
            "                                                                 \n",
            " conv_layer_2 (Conv2D)       (None, 48, 48, 64)        18496     \n",
            "                                                                 \n",
            " encoder_bn_1 (BatchNormaliz  (None, 48, 48, 64)       256       \n",
            " ation)                                                          \n",
            "                                                                 \n",
            " max_pool_1 (MaxPooling2D)   (None, 24, 24, 64)        0         \n",
            "                                                                 \n",
            " dropout1 (Dropout)          (None, 24, 24, 64)        0         \n",
            "                                                                 \n",
            " conv_layer_3 (Conv2D)       (None, 24, 24, 128)       73856     \n",
            "                                                                 \n",
            " conv_layer_4 (Conv2D)       (None, 22, 22, 256)       295168    \n",
            "                                                                 \n",
            " encoder_bn_2 (BatchNormaliz  (None, 22, 22, 256)      1024      \n",
            " ation)                                                          \n",
            "                                                                 \n",
            " max_pool_2 (MaxPooling2D)   (None, 11, 11, 256)       0         \n",
            "                                                                 \n",
            " dropout2 (Dropout)          (None, 11, 11, 256)       0         \n",
            "                                                                 \n",
            " flatten_1 (Flatten)         (None, 30976)             0         \n",
            "                                                                 \n",
            " Dense_1 (Dense)             (None, 1024)              31720448  \n",
            "                                                                 \n",
            " dropout3 (Dropout)          (None, 1024)              0         \n",
            "                                                                 \n",
            " model_output (Dense)        (None, 7)                 7175      \n",
            "                                                                 \n",
            "=================================================================\n",
            "Total params: 32,116,743\n",
            "Trainable params: 32,116,103\n",
            "Non-trainable params: 640\n",
            "_________________________________________________________________\n"
          ]
        }
      ]
    },
    {
      "cell_type": "code",
      "source": [
        "#Compiling the model\n",
        "model_API.compile(optimizer=keras.optimizers.Adam(learning_rate=0.001), \n",
        "                  loss='categorical_crossentropy', \n",
        "                  metrics=['accuracy'])"
      ],
      "metadata": {
        "id": "o9_xvaAz0TvA"
      },
      "execution_count": 52,
      "outputs": []
    },
    {
      "cell_type": "code",
      "source": [
        "from keras.callbacks import ModelCheckpoint\n",
        "checkpointer = ModelCheckpoint(filepath= 'data/face_model.h5', verbose=1, save_best_only=True)\n",
        "\n",
        "# Training\n",
        "history = model_API.fit(train_image, \n",
        "                        train_labels, \n",
        "                        validation_data=(test_image, test_labels), \n",
        "                        batch_size=100, epochs=50, \n",
        "                        shuffle=True, callbacks=[checkpointer], \n",
        "                        verbose=2)"
      ],
      "metadata": {
        "colab": {
          "base_uri": "https://localhost:8080/"
        },
        "id": "G7uY7pyWKHHz",
        "outputId": "cb9603d4-f31b-456e-c007-c022c74b8a3f"
      },
      "execution_count": 53,
      "outputs": [
        {
          "output_type": "stream",
          "name": "stdout",
          "text": [
            "Epoch 1/50\n",
            "\n",
            "Epoch 1: val_loss improved from inf to 29.48911, saving model to data/face_model.h5\n",
            "185/185 - 28s - loss: 6.9673 - accuracy: 0.2496 - val_loss: 29.4891 - val_accuracy: 0.1629 - 28s/epoch - 151ms/step\n",
            "Epoch 2/50\n",
            "\n",
            "Epoch 2: val_loss improved from 29.48911 to 22.18777, saving model to data/face_model.h5\n",
            "185/185 - 15s - loss: 2.8649 - accuracy: 0.3190 - val_loss: 22.1878 - val_accuracy: 0.1800 - 15s/epoch - 79ms/step\n",
            "Epoch 3/50\n",
            "\n",
            "Epoch 3: val_loss improved from 22.18777 to 6.73187, saving model to data/face_model.h5\n",
            "185/185 - 13s - loss: 2.1962 - accuracy: 0.3528 - val_loss: 6.7319 - val_accuracy: 0.2866 - 13s/epoch - 70ms/step\n",
            "Epoch 4/50\n",
            "\n",
            "Epoch 4: val_loss improved from 6.73187 to 1.84573, saving model to data/face_model.h5\n",
            "185/185 - 13s - loss: 1.8549 - accuracy: 0.3772 - val_loss: 1.8457 - val_accuracy: 0.3852 - 13s/epoch - 69ms/step\n",
            "Epoch 5/50\n",
            "\n",
            "Epoch 5: val_loss did not improve from 1.84573\n",
            "185/185 - 11s - loss: 1.7013 - accuracy: 0.4041 - val_loss: 2.2452 - val_accuracy: 0.3819 - 11s/epoch - 60ms/step\n",
            "Epoch 6/50\n",
            "\n",
            "Epoch 6: val_loss improved from 1.84573 to 1.64393, saving model to data/face_model.h5\n",
            "185/185 - 15s - loss: 1.6173 - accuracy: 0.4229 - val_loss: 1.6439 - val_accuracy: 0.4275 - 15s/epoch - 80ms/step\n",
            "Epoch 7/50\n",
            "\n",
            "Epoch 7: val_loss improved from 1.64393 to 1.54614, saving model to data/face_model.h5\n",
            "185/185 - 13s - loss: 1.5515 - accuracy: 0.4433 - val_loss: 1.5461 - val_accuracy: 0.4601 - 13s/epoch - 71ms/step\n",
            "Epoch 8/50\n",
            "\n",
            "Epoch 8: val_loss did not improve from 1.54614\n",
            "185/185 - 11s - loss: 1.5049 - accuracy: 0.4633 - val_loss: 1.5819 - val_accuracy: 0.4251 - 11s/epoch - 59ms/step\n",
            "Epoch 9/50\n",
            "\n",
            "Epoch 9: val_loss improved from 1.54614 to 1.54320, saving model to data/face_model.h5\n",
            "185/185 - 15s - loss: 1.4471 - accuracy: 0.4864 - val_loss: 1.5432 - val_accuracy: 0.4446 - 15s/epoch - 80ms/step\n",
            "Epoch 10/50\n",
            "\n",
            "Epoch 10: val_loss improved from 1.54320 to 1.51651, saving model to data/face_model.h5\n",
            "185/185 - 13s - loss: 1.4154 - accuracy: 0.4990 - val_loss: 1.5165 - val_accuracy: 0.4723 - 13s/epoch - 73ms/step\n",
            "Epoch 11/50\n",
            "\n",
            "Epoch 11: val_loss improved from 1.51651 to 1.42543, saving model to data/face_model.h5\n",
            "185/185 - 14s - loss: 1.3820 - accuracy: 0.5163 - val_loss: 1.4254 - val_accuracy: 0.5057 - 14s/epoch - 73ms/step\n",
            "Epoch 12/50\n",
            "\n",
            "Epoch 12: val_loss did not improve from 1.42543\n",
            "185/185 - 11s - loss: 1.3174 - accuracy: 0.5441 - val_loss: 1.4822 - val_accuracy: 0.4906 - 11s/epoch - 60ms/step\n",
            "Epoch 13/50\n",
            "\n",
            "Epoch 13: val_loss did not improve from 1.42543\n",
            "185/185 - 11s - loss: 1.2671 - accuracy: 0.5632 - val_loss: 1.4898 - val_accuracy: 0.4971 - 11s/epoch - 60ms/step\n",
            "Epoch 14/50\n",
            "\n",
            "Epoch 14: val_loss did not improve from 1.42543\n",
            "185/185 - 11s - loss: 1.2159 - accuracy: 0.5877 - val_loss: 1.4551 - val_accuracy: 0.5183 - 11s/epoch - 61ms/step\n",
            "Epoch 15/50\n",
            "\n",
            "Epoch 15: val_loss improved from 1.42543 to 1.41838, saving model to data/face_model.h5\n",
            "185/185 - 15s - loss: 1.1677 - accuracy: 0.6061 - val_loss: 1.4184 - val_accuracy: 0.5163 - 15s/epoch - 79ms/step\n",
            "Epoch 16/50\n",
            "\n",
            "Epoch 16: val_loss did not improve from 1.41838\n",
            "185/185 - 11s - loss: 1.1219 - accuracy: 0.6279 - val_loss: 1.4490 - val_accuracy: 0.5257 - 11s/epoch - 59ms/step\n",
            "Epoch 17/50\n",
            "\n",
            "Epoch 17: val_loss did not improve from 1.41838\n",
            "185/185 - 11s - loss: 1.0529 - accuracy: 0.6510 - val_loss: 1.4229 - val_accuracy: 0.5257 - 11s/epoch - 59ms/step\n",
            "Epoch 18/50\n",
            "\n",
            "Epoch 18: val_loss did not improve from 1.41838\n",
            "185/185 - 11s - loss: 1.0238 - accuracy: 0.6638 - val_loss: 1.4650 - val_accuracy: 0.5318 - 11s/epoch - 60ms/step\n",
            "Epoch 19/50\n",
            "\n",
            "Epoch 19: val_loss did not improve from 1.41838\n",
            "185/185 - 11s - loss: 0.9660 - accuracy: 0.6891 - val_loss: 1.4216 - val_accuracy: 0.5411 - 11s/epoch - 60ms/step\n",
            "Epoch 20/50\n",
            "\n",
            "Epoch 20: val_loss did not improve from 1.41838\n",
            "185/185 - 11s - loss: 0.9180 - accuracy: 0.7018 - val_loss: 1.4716 - val_accuracy: 0.5228 - 11s/epoch - 61ms/step\n",
            "Epoch 21/50\n",
            "\n",
            "Epoch 21: val_loss did not improve from 1.41838\n",
            "185/185 - 11s - loss: 0.8814 - accuracy: 0.7153 - val_loss: 1.4620 - val_accuracy: 0.5289 - 11s/epoch - 61ms/step\n",
            "Epoch 22/50\n",
            "\n",
            "Epoch 22: val_loss improved from 1.41838 to 1.40814, saving model to data/face_model.h5\n",
            "185/185 - 15s - loss: 0.8500 - accuracy: 0.7236 - val_loss: 1.4081 - val_accuracy: 0.5464 - 15s/epoch - 80ms/step\n",
            "Epoch 23/50\n",
            "\n",
            "Epoch 23: val_loss did not improve from 1.40814\n",
            "185/185 - 11s - loss: 0.8098 - accuracy: 0.7434 - val_loss: 1.5152 - val_accuracy: 0.5489 - 11s/epoch - 59ms/step\n",
            "Epoch 24/50\n",
            "\n",
            "Epoch 24: val_loss did not improve from 1.40814\n",
            "185/185 - 11s - loss: 0.7690 - accuracy: 0.7534 - val_loss: 1.4508 - val_accuracy: 0.5350 - 11s/epoch - 59ms/step\n",
            "Epoch 25/50\n",
            "\n",
            "Epoch 25: val_loss did not improve from 1.40814\n",
            "185/185 - 11s - loss: 0.7562 - accuracy: 0.7629 - val_loss: 1.4575 - val_accuracy: 0.5456 - 11s/epoch - 59ms/step\n",
            "Epoch 26/50\n",
            "\n",
            "Epoch 26: val_loss did not improve from 1.40814\n",
            "185/185 - 11s - loss: 0.7249 - accuracy: 0.7729 - val_loss: 1.4910 - val_accuracy: 0.5423 - 11s/epoch - 60ms/step\n",
            "Epoch 27/50\n",
            "\n",
            "Epoch 27: val_loss did not improve from 1.40814\n",
            "185/185 - 11s - loss: 0.7058 - accuracy: 0.7791 - val_loss: 1.4265 - val_accuracy: 0.5550 - 11s/epoch - 59ms/step\n",
            "Epoch 28/50\n",
            "\n",
            "Epoch 28: val_loss did not improve from 1.40814\n",
            "185/185 - 11s - loss: 0.6778 - accuracy: 0.7888 - val_loss: 1.5039 - val_accuracy: 0.5513 - 11s/epoch - 59ms/step\n",
            "Epoch 29/50\n",
            "\n",
            "Epoch 29: val_loss did not improve from 1.40814\n",
            "185/185 - 11s - loss: 0.6660 - accuracy: 0.7938 - val_loss: 1.4968 - val_accuracy: 0.5493 - 11s/epoch - 59ms/step\n",
            "Epoch 30/50\n",
            "\n",
            "Epoch 30: val_loss did not improve from 1.40814\n",
            "185/185 - 11s - loss: 0.6327 - accuracy: 0.8065 - val_loss: 1.4907 - val_accuracy: 0.5464 - 11s/epoch - 59ms/step\n",
            "Epoch 31/50\n",
            "\n",
            "Epoch 31: val_loss did not improve from 1.40814\n",
            "185/185 - 11s - loss: 0.6407 - accuracy: 0.8052 - val_loss: 1.6061 - val_accuracy: 0.5501 - 11s/epoch - 60ms/step\n",
            "Epoch 32/50\n",
            "\n",
            "Epoch 32: val_loss did not improve from 1.40814\n",
            "185/185 - 11s - loss: 0.6062 - accuracy: 0.8180 - val_loss: 1.6523 - val_accuracy: 0.5366 - 11s/epoch - 60ms/step\n",
            "Epoch 33/50\n",
            "\n",
            "Epoch 33: val_loss did not improve from 1.40814\n",
            "185/185 - 11s - loss: 0.5891 - accuracy: 0.8222 - val_loss: 1.4859 - val_accuracy: 0.5452 - 11s/epoch - 60ms/step\n",
            "Epoch 34/50\n",
            "\n",
            "Epoch 34: val_loss did not improve from 1.40814\n",
            "185/185 - 11s - loss: 0.5742 - accuracy: 0.8285 - val_loss: 1.6038 - val_accuracy: 0.5460 - 11s/epoch - 58ms/step\n",
            "Epoch 35/50\n",
            "\n",
            "Epoch 35: val_loss did not improve from 1.40814\n",
            "185/185 - 11s - loss: 0.5969 - accuracy: 0.8260 - val_loss: 1.7724 - val_accuracy: 0.5387 - 11s/epoch - 58ms/step\n",
            "Epoch 36/50\n",
            "\n",
            "Epoch 36: val_loss did not improve from 1.40814\n",
            "185/185 - 11s - loss: 0.5669 - accuracy: 0.8323 - val_loss: 1.6803 - val_accuracy: 0.5517 - 11s/epoch - 60ms/step\n",
            "Epoch 37/50\n",
            "\n",
            "Epoch 37: val_loss did not improve from 1.40814\n",
            "185/185 - 11s - loss: 0.5446 - accuracy: 0.8383 - val_loss: 1.9341 - val_accuracy: 0.5489 - 11s/epoch - 60ms/step\n",
            "Epoch 38/50\n",
            "\n",
            "Epoch 38: val_loss did not improve from 1.40814\n",
            "185/185 - 11s - loss: 0.5558 - accuracy: 0.8414 - val_loss: 1.6648 - val_accuracy: 0.5318 - 11s/epoch - 60ms/step\n",
            "Epoch 39/50\n",
            "\n",
            "Epoch 39: val_loss did not improve from 1.40814\n",
            "185/185 - 11s - loss: 0.5465 - accuracy: 0.8398 - val_loss: 1.6957 - val_accuracy: 0.5432 - 11s/epoch - 59ms/step\n",
            "Epoch 40/50\n",
            "\n",
            "Epoch 40: val_loss did not improve from 1.40814\n",
            "185/185 - 11s - loss: 0.5200 - accuracy: 0.8477 - val_loss: 1.6679 - val_accuracy: 0.5452 - 11s/epoch - 59ms/step\n",
            "Epoch 41/50\n",
            "\n",
            "Epoch 41: val_loss did not improve from 1.40814\n",
            "185/185 - 11s - loss: 0.5184 - accuracy: 0.8534 - val_loss: 1.8065 - val_accuracy: 0.5334 - 11s/epoch - 60ms/step\n",
            "Epoch 42/50\n",
            "\n",
            "Epoch 42: val_loss did not improve from 1.40814\n",
            "185/185 - 11s - loss: 0.5003 - accuracy: 0.8539 - val_loss: 1.7906 - val_accuracy: 0.5301 - 11s/epoch - 60ms/step\n",
            "Epoch 43/50\n",
            "\n",
            "Epoch 43: val_loss did not improve from 1.40814\n",
            "185/185 - 11s - loss: 0.5017 - accuracy: 0.8540 - val_loss: 1.7397 - val_accuracy: 0.5533 - 11s/epoch - 58ms/step\n",
            "Epoch 44/50\n",
            "\n",
            "Epoch 44: val_loss did not improve from 1.40814\n",
            "185/185 - 11s - loss: 0.4978 - accuracy: 0.8604 - val_loss: 1.5545 - val_accuracy: 0.5476 - 11s/epoch - 58ms/step\n",
            "Epoch 45/50\n",
            "\n",
            "Epoch 45: val_loss did not improve from 1.40814\n",
            "185/185 - 11s - loss: 0.4752 - accuracy: 0.8654 - val_loss: 1.6789 - val_accuracy: 0.5468 - 11s/epoch - 60ms/step\n",
            "Epoch 46/50\n",
            "\n",
            "Epoch 46: val_loss did not improve from 1.40814\n",
            "185/185 - 11s - loss: 0.4620 - accuracy: 0.8666 - val_loss: 1.7834 - val_accuracy: 0.5521 - 11s/epoch - 59ms/step\n",
            "Epoch 47/50\n",
            "\n",
            "Epoch 47: val_loss did not improve from 1.40814\n",
            "185/185 - 11s - loss: 0.4615 - accuracy: 0.8712 - val_loss: 1.6200 - val_accuracy: 0.5387 - 11s/epoch - 58ms/step\n",
            "Epoch 48/50\n",
            "\n",
            "Epoch 48: val_loss did not improve from 1.40814\n",
            "185/185 - 11s - loss: 0.4671 - accuracy: 0.8668 - val_loss: 1.7549 - val_accuracy: 0.5358 - 11s/epoch - 60ms/step\n",
            "Epoch 49/50\n",
            "\n",
            "Epoch 49: val_loss did not improve from 1.40814\n",
            "185/185 - 11s - loss: 0.4428 - accuracy: 0.8726 - val_loss: 1.7596 - val_accuracy: 0.5277 - 11s/epoch - 61ms/step\n",
            "Epoch 50/50\n",
            "\n",
            "Epoch 50: val_loss did not improve from 1.40814\n",
            "185/185 - 11s - loss: 0.4397 - accuracy: 0.8750 - val_loss: 1.8005 - val_accuracy: 0.5456 - 11s/epoch - 58ms/step\n"
          ]
        }
      ]
    },
    {
      "cell_type": "code",
      "source": [
        "# save model to json\n",
        "model_json = model_API.to_json()\n",
        "with open('/gdrive/MyDrive/Colab Notebooks/Sentiment Analysis/Data/data/face_model.json', 'w') as json_file:\n",
        "  json_file.write(model_json)"
      ],
      "metadata": {
        "id": "CoVOkXQ0KqMD"
      },
      "execution_count": 54,
      "outputs": []
    },
    {
      "cell_type": "code",
      "source": [
        "plt.figure(figsize=(10,3))\n",
        "plt.subplot(1, 2, 1)\n",
        "plt.ylabel('Loss')\n",
        "plt.plot(history.history['loss'], color ='r', label='Training Loss')\n",
        "plt.plot(history.history['val_loss'], color ='b', label='Validation Loss')\n",
        "plt.legend(loc='upper right')\n",
        "\n",
        "\n",
        "plt.subplot(1, 2, 2)\n",
        "plt.ylabel('Accuracy')\n",
        "plt.plot(history.history['accuracy'], color ='g', label='Training Accuracy')\n",
        "plt.plot(history.history['val_accuracy'], color ='m', label='Validation Accuracy')\n",
        "plt.legend(loc='lower right')\n",
        "\n",
        "plt.show()"
      ],
      "metadata": {
        "colab": {
          "base_uri": "https://localhost:8080/",
          "height": 294
        },
        "id": "SLvetd8gbrEB",
        "outputId": "188ad4dc-ee84-40ed-fa57-31c08577eb76"
      },
      "execution_count": 55,
      "outputs": [
        {
          "output_type": "display_data",
          "data": {
            "text/plain": [
              "<Figure size 1000x300 with 2 Axes>"
            ],
            "image/png": "[encoded data removed]"
          },
          "metadata": {}
        }
      ]
    },
    {
      "cell_type": "code",
      "source": [
        "image_url = \"https://yt3.googleusercontent.com/ytc/AL5GRJUWzuK6FB01l_NrmtdbWhgq8j4zMnb6SJyeR8ID=s900-c-k-c0x00ffffff-no-rj\""
      ],
      "metadata": {
        "id": "Al46lOsjcG-U"
      },
      "execution_count": 56,
      "outputs": []
    },
    {
      "cell_type": "code",
      "source": [
        "import requests\n",
        "from io import BytesIO\n",
        "image_url_resp = requests.get(image_url)\n",
        "image = Image.open(BytesIO(image_url_resp.content)).convert('L') # convert to grayscale\n",
        "image = image.resize((48,48))\n",
        "image = np.array(image, dtype=\"float32\") / 255.0 # normalize pixel values to [0, 1]\n",
        "image = np.expand_dims(image, axis=-1) # add an extra dimension for the single channel\n",
        "\n",
        "print(image.shape)"
      ],
      "metadata": {
        "colab": {
          "base_uri": "https://localhost:8080/"
        },
        "id": "bmvgrUgVc38B",
        "outputId": "53e8d4c6-8c77-478f-da8e-7c663cf2109c"
      },
      "execution_count": 57,
      "outputs": [
        {
          "output_type": "stream",
          "name": "stdout",
          "text": [
            "(48, 48, 1)\n"
          ]
        }
      ]
    },
    {
      "cell_type": "code",
      "source": [
        "plt.figure(figsize=(5,5))\n",
        "plt.imshow(image, cmap=\"gray\")\n",
        "plt.show()"
      ],
      "metadata": {
        "colab": {
          "base_uri": "https://localhost:8080/",
          "height": 447
        },
        "id": "etsJB_3fc-pA",
        "outputId": "5903d221-06d6-4da1-dc62-7d3a3cbc1c80"
      },
      "execution_count": 58,
      "outputs": [
        {
          "output_type": "display_data",
          "data": {
            "text/plain": [
              "<Figure size 500x500 with 1 Axes>"
            ],
            "image/png": "[encoded data removed]"
          },
          "metadata": {}
        }
      ]
    },
    {
      "cell_type": "code",
      "source": [
        "image = image[np.newaxis,...]"
      ],
      "metadata": {
        "id": "zj-rBPkHiD5S"
      },
      "execution_count": 59,
      "outputs": []
    },
    {
      "cell_type": "code",
      "source": [
        "prediction = model_API.predict(image)\n",
        "ind = np.argmax(prediction,axis=1)\n",
        "print(f\"Prediction: {labels_class[ind[0]]}\")"
      ],
      "metadata": {
        "colab": {
          "base_uri": "https://localhost:8080/"
        },
        "id": "2ceOJ8u6dLs9",
        "outputId": "eb2886dc-784f-48d6-f9a9-20024fffd8b5"
      },
      "execution_count": 60,
      "outputs": [
        {
          "output_type": "stream",
          "name": "stdout",
          "text": [
            "1/1 [==============================] - 0s 428ms/step\n",
            "Prediction: Happy\n"
          ]
        }
      ]
    },
    {
      "cell_type": "markdown",
      "source": [
        "####**Evaluate the Model with Private Dataset**"
      ],
      "metadata": {
        "id": "zEwQktOdTp1r"
      }
    },
    {
      "cell_type": "code",
      "source": [
        "test = data[[\"emotion\", \"pixels\"]][data[\"Usage\"] == \"PrivateTest\"]\n",
        "test[\"pixels\"] = test[\"pixels\"].apply(lambda im: np.fromstring(im, sep=' '))\n",
        "\n",
        "test.head()"
      ],
      "metadata": {
        "colab": {
          "base_uri": "https://localhost:8080/",
          "height": 206
        },
        "id": "7xAHXnXkUMca",
        "outputId": "47576b05-4a23-411a-9664-7e5d9ff94a61"
      },
      "execution_count": 61,
      "outputs": [
        {
          "output_type": "execute_result",
          "data": {
            "text/plain": [
              "       emotion                                             pixels\n",
              "32298        0  [170.0, 118.0, 101.0, 88.0, 88.0, 75.0, 78.0, ...\n",
              "32299        5  [7.0, 5.0, 8.0, 6.0, 7.0, 3.0, 2.0, 6.0, 5.0, ...\n",
              "32300        6  [232.0, 240.0, 241.0, 239.0, 237.0, 235.0, 246...\n",
              "32301        4  [200.0, 197.0, 149.0, 139.0, 156.0, 89.0, 111....\n",
              "32302        2  [40.0, 28.0, 33.0, 56.0, 45.0, 33.0, 31.0, 78...."
            ],
            "text/html": [
              "\n",
              "  <div id=\"df-8f425bdd-4788-4047-97a9-7cacac8b863c\">\n",
              "    <div class=\"colab-df-container\">\n",
              "      <div>\n",
              "<style scoped>\n",
              "    .dataframe tbody tr th:only-of-type {\n",
              "        vertical-align: middle;\n",
              "    }\n",
              "\n",
              "    .dataframe tbody tr th {\n",
              "        vertical-align: top;\n",
              "    }\n",
              "\n",
              "    .dataframe thead th {\n",
              "        text-align: right;\n",
              "    }\n",
              "</style>\n",
              "<table border=\"1\" class=\"dataframe\">\n",
              "  <thead>\n",
              "    <tr style=\"text-align: right;\">\n",
              "      <th></th>\n",
              "      <th>emotion</th>\n",
              "      <th>pixels</th>\n",
              "    </tr>\n",
              "  </thead>\n",
              "  <tbody>\n",
              "    <tr>\n",
              "      <th>32298</th>\n",
              "      <td>0</td>\n",
              "      <td>[170.0, 118.0, 101.0, 88.0, 88.0, 75.0, 78.0, ...</td>\n",
              "    </tr>\n",
              "    <tr>\n",
              "      <th>32299</th>\n",
              "      <td>5</td>\n",
              "      <td>[7.0, 5.0, 8.0, 6.0, 7.0, 3.0, 2.0, 6.0, 5.0, ...</td>\n",
              "    </tr>\n",
              "    <tr>\n",
              "      <th>32300</th>\n",
              "      <td>6</td>\n",
              "      <td>[232.0, 240.0, 241.0, 239.0, 237.0, 235.0, 246...</td>\n",
              "    </tr>\n",
              "    <tr>\n",
              "      <th>32301</th>\n",
              "      <td>4</td>\n",
              "      <td>[200.0, 197.0, 149.0, 139.0, 156.0, 89.0, 111....</td>\n",
              "    </tr>\n",
              "    <tr>\n",
              "      <th>32302</th>\n",
              "      <td>2</td>\n",
              "      <td>[40.0, 28.0, 33.0, 56.0, 45.0, 33.0, 31.0, 78....</td>\n",
              "    </tr>\n",
              "  </tbody>\n",
              "</table>\n",
              "</div>\n",
              "      <button class=\"colab-df-convert\" onclick=\"convertToInteractive('df-8f425bdd-4788-4047-97a9-7cacac8b863c')\"\n",
              "              title=\"Convert this dataframe to an interactive table.\"\n",
              "              style=\"display:none;\">\n",
              "        \n",
              "  <svg xmlns=\"http://www.w3.org/2000/svg\" height=\"24px\"viewBox=\"0 0 24 24\"\n",
              "       width=\"24px\">\n",
              "    <path d=\"M0 0h24v24H0V0z\" fill=\"none\"/>\n",
              "    <path d=\"M18.56 5.44l.94 2.06.94-2.06 2.06-.94-2.06-.94-.94-2.06-.94 2.06-2.06.94zm-11 1L8.5 8.5l.94-2.06 2.06-.94-2.06-.94L8.5 2.5l-.94 2.06-2.06.94zm10 10l.94 2.06.94-2.06 2.06-.94-2.06-.94-.94-2.06-.94 2.06-2.06.94z\"/><path d=\"M17.41 7.96l-1.37-1.37c-.4-.4-.92-.59-1.43-.59-.52 0-1.04.2-1.43.59L10.3 9.45l-7.72 7.72c-.78.78-.78 2.05 0 2.83L4 21.41c.39.39.9.59 1.41.59.51 0 1.02-.2 1.41-.59l7.78-7.78 2.81-2.81c.8-.78.8-2.07 0-2.86zM5.41 20L4 18.59l7.72-7.72 1.47 1.35L5.41 20z\"/>\n",
              "  </svg>\n",
              "      </button>\n",
              "      \n",
              "  <style>\n",
              "    .colab-df-container {\n",
              "      display:flex;\n",
              "      flex-wrap:wrap;\n",
              "      gap: 12px;\n",
              "    }\n",
              "\n",
              "    .colab-df-convert {\n",
              "      background-color: #E8F0FE;\n",
              "      border: none;\n",
              "      border-radius: 50%;\n",
              "      cursor: pointer;\n",
              "      display: none;\n",
              "      fill: #1967D2;\n",
              "      height: 32px;\n",
              "      padding: 0 0 0 0;\n",
              "      width: 32px;\n",
              "    }\n",
              "\n",
              "    .colab-df-convert:hover {\n",
              "      background-color: #E2EBFA;\n",
              "      box-shadow: 0px 1px 2px rgba(60, 64, 67, 0.3), 0px 1px 3px 1px rgba(60, 64, 67, 0.15);\n",
              "      fill: #174EA6;\n",
              "    }\n",
              "\n",
              "    [theme=dark] .colab-df-convert {\n",
              "      background-color: #3B4455;\n",
              "      fill: #D2E3FC;\n",
              "    }\n",
              "\n",
              "    [theme=dark] .colab-df-convert:hover {\n",
              "      background-color: #434B5C;\n",
              "      box-shadow: 0px 1px 3px 1px rgba(0, 0, 0, 0.15);\n",
              "      filter: drop-shadow(0px 1px 2px rgba(0, 0, 0, 0.3));\n",
              "      fill: #FFFFFF;\n",
              "    }\n",
              "  </style>\n",
              "\n",
              "      <script>\n",
              "        const buttonEl =\n",
              "          document.querySelector('#df-8f425bdd-4788-4047-97a9-7cacac8b863c button.colab-df-convert');\n",
              "        buttonEl.style.display =\n",
              "          google.colab.kernel.accessAllowed ? 'block' : 'none';\n",
              "\n",
              "        async function convertToInteractive(key) {\n",
              "          const element = document.querySelector('#df-8f425bdd-4788-4047-97a9-7cacac8b863c');\n",
              "          const dataTable =\n",
              "            await google.colab.kernel.invokeFunction('convertToInteractive',\n",
              "                                                     [key], {});\n",
              "          if (!dataTable) return;\n",
              "\n",
              "          const docLinkHtml = 'Like what you see? Visit the ' +\n",
              "            '<a target=\"_blank\" href=https://colab.research.google.com/notebooks/data_table.ipynb>data table notebook</a>'\n",
              "            + ' to learn more about interactive tables.';\n",
              "          element.innerHTML = '';\n",
              "          dataTable['output_type'] = 'display_data';\n",
              "          await google.colab.output.renderOutput(dataTable, element);\n",
              "          const docLink = document.createElement('div');\n",
              "          docLink.innerHTML = docLinkHtml;\n",
              "          element.appendChild(docLink);\n",
              "        }\n",
              "      </script>\n",
              "    </div>\n",
              "  </div>\n",
              "  "
            ]
          },
          "metadata": {},
          "execution_count": 61
        }
      ]
    },
    {
      "cell_type": "code",
      "source": [
        "x_test_private = np.vstack(test[\"pixels\"].values)\n",
        "y_test_private = np.array(test[\"emotion\"])"
      ],
      "metadata": {
        "id": "RZhL4Mz1Uamk"
      },
      "execution_count": 62,
      "outputs": []
    },
    {
      "cell_type": "code",
      "source": [
        "x_test_private = x_test_private.reshape(-1,48,48)"
      ],
      "metadata": {
        "id": "sfLdbej5Ulga"
      },
      "execution_count": 65,
      "outputs": []
    },
    {
      "cell_type": "code",
      "source": [
        "x_test_private = x_test_private[...,np.newaxis] # add the channel axis\n",
        "y_test_private = keras.utils.to_categorical(y_test_private, num_class) # one-hot encoding"
      ],
      "metadata": {
        "id": "FDE60jLcUd_G"
      },
      "execution_count": 66,
      "outputs": []
    },
    {
      "cell_type": "code",
      "source": [
        "print(f\"Private test data shape: {x_test_private.shape}\")\n",
        "print(f\"Private target/label data shape: {y_test_private.shape}\")"
      ],
      "metadata": {
        "colab": {
          "base_uri": "https://localhost:8080/"
        },
        "id": "_ltTTjFPVQMH",
        "outputId": "07105fd3-c9c9-4077-89f0-31924b9f4854"
      },
      "execution_count": 68,
      "outputs": [
        {
          "output_type": "stream",
          "name": "stdout",
          "text": [
            "Private test data shape: (3589, 48, 48, 1)\n",
            "Private target/label data shape: (3589, 7)\n"
          ]
        }
      ]
    },
    {
      "cell_type": "code",
      "source": [
        "x_test_private = (x_test_private-np.mean(x_test_private))/np.std(x_test_private)"
      ],
      "metadata": {
        "id": "Hx9EZSt8WYrv"
      },
      "execution_count": 75,
      "outputs": []
    },
    {
      "cell_type": "code",
      "source": [
        "categorical_cross_entropy_loss, categorical_accuracy = model_API.evaluate(x_test_private, y_test_private, verbose=0)\n",
        "print(f\"[categorical_cross_entropy_loss:{categorical_cross_entropy_loss}, categorical_accuracy:{categorical_accuracy*100}]\")"
      ],
      "metadata": {
        "colab": {
          "base_uri": "https://localhost:8080/"
        },
        "id": "N7oa11lCVc9J",
        "outputId": "c6f2f86e-e2e2-4272-f7e0-3e30295e4059"
      },
      "execution_count": 76,
      "outputs": [
        {
          "output_type": "stream",
          "name": "stdout",
          "text": [
            "[categorical_cross_entropy_loss:1.6938530206680298, categorical_accuracy:56.47812485694885]\n"
          ]
        }
      ]
    },
    {
      "cell_type": "markdown",
      "source": [
        "**Discussion:** \n",
        "\n",
        "Our functional model achieved a categorical accuracy of 56% on the private dataset. However, this level of accuracy may not be sufficient for real-world applications. To improve accuracy, different pre-trained models can be used, but it is important to ensure that the data shape is appropriate.\n",
        "\n",
        "For example, the VGG-Face model can be used for sentiment analysis, but it requires images of size (224x224), which is different from the (48x48) face images used in our study. VGG-Face is a deep convolutional neural network originally designed for face recognition, but it can also detect facial expressions. The model was trained on a large dataset of face images and can identify seven basic emotions: anger, disgust, fear, happiness, sadness, surprise, and neutral."
      ],
      "metadata": {
        "id": "L9200qCVWgv4"
      }
    }
  ]
}