{
  "nbformat": 4,
  "nbformat_minor": 0,
  "metadata": {
    "colab": {
      "provenance": [],
      "authorship_tag": "ABX9TyMQokAHyKmZOD9Bgt1OGEBP",
      "include_colab_link": true
    },
    "kernelspec": {
      "name": "python3",
      "display_name": "Python 3"
    },
    "language_info": {
      "name": "python"
    },
    "accelerator": "GPU",
    "gpuClass": "standard"
  },
  "cells": [
    {
      "cell_type": "markdown",
      "metadata": {
        "id": "view-in-github",
        "colab_type": "text"
      },
      "source": [
        "<a href=\"https://colab.research.google.com/github/aaolcay/Convolutional-Neural-Network-Examples/blob/main/Fashion_mnist_KerasAPI_model.ipynb\" target=\"_parent\"><img src=\"https://colab.research.google.com/assets/colab-badge.svg\" alt=\"Open In Colab\"/></a>"
      ]
    },
    {
      "cell_type": "markdown",
      "source": [
        "**Authenticate Drive Account**\n",
        "\n",
        "This is because we will upload the model (used in `Fashion_mnist_Transfer_Learning.ipynb`) so that we can build a Functional model with the same architecture."
      ],
      "metadata": {
        "id": "80oc0LSgDBYb"
      }
    },
    {
      "cell_type": "code",
      "execution_count": 160,
      "metadata": {
        "colab": {
          "base_uri": "https://localhost:8080/"
        },
        "id": "UQ1wAMZgCPbp",
        "outputId": "db5f79bb-93da-42d6-836c-d16749758d1d"
      },
      "outputs": [
        {
          "output_type": "stream",
          "name": "stdout",
          "text": [
            "Drive already mounted at /gdrive; to attempt to forcibly remount, call drive.mount(\"/gdrive\", force_remount=True).\n",
            "/gdrive\n"
          ]
        }
      ],
      "source": [
        "from google.colab import drive\n",
        "drive.mount('/gdrive')\n",
        "%cd /gdrive"
      ]
    },
    {
      "cell_type": "markdown",
      "source": [
        "**See what we have in our folder**"
      ],
      "metadata": {
        "id": "lda8gHWuNQfe"
      }
    },
    {
      "cell_type": "code",
      "source": [
        "import os\n",
        "os.chdir('/gdrive/My Drive/Convolutional Neural Networks')\n",
        "!ls"
      ],
      "metadata": {
        "colab": {
          "base_uri": "https://localhost:8080/"
        },
        "id": "kOO_FiYIM9p6",
        "outputId": "3fcb7f53-f525-49ed-cc10-c35e69d9b24a"
      },
      "execution_count": 161,
      "outputs": [
        {
          "output_type": "stream",
          "name": "stdout",
          "text": [
            "Fashion_mnist_KerasAPI_model.ipynb\n",
            "Fashion_mnist_Transfer_Learning.ipynb\n",
            "mnist_dataset_Sequential_model.ipynb\n",
            "model_fashion-mnist_cnn_train2_epoch24.h5\n"
          ]
        }
      ]
    },
    {
      "cell_type": "markdown",
      "source": [
        "**Import Libraries**\n",
        "\n",
        "`keras` -> To create DL (here we use CNN) model\n",
        "\n",
        "`keras.datasets` -> Calling a dataset ready from Kaggle (Keras library)\n",
        "\n",
        "`keras.models` -> `load_model` -> For transfer learning (loading a model ready)\n",
        "\n",
        "`numpy` -> Save your life if you are using arrays\n",
        "\n",
        "`matplotlib.pyplot` -> To plot images, graphs etc.\n",
        "\n"
      ],
      "metadata": {
        "id": "E7gHQS6gNV1V"
      }
    },
    {
      "cell_type": "code",
      "source": [
        "import tensorflow.keras as keras\n",
        "from keras.datasets import fashion_mnist\n",
        "import numpy as np\n",
        "import matplotlib.pyplot as plt"
      ],
      "metadata": {
        "id": "d__aFb0YNPuy"
      },
      "execution_count": 162,
      "outputs": []
    },
    {
      "cell_type": "markdown",
      "source": [
        "**Load Model**\n",
        "\n",
        "See the summary of model so that we can build the same architecture by Keras API. "
      ],
      "metadata": {
        "id": "WEYxQMu9PE9C"
      }
    },
    {
      "cell_type": "code",
      "source": [
        "model = keras.models.load_model('/gdrive/My Drive/Convolutional Neural Networks/model_fashion-mnist_cnn_train2_epoch24.h5')\n",
        "model.summary()"
      ],
      "metadata": {
        "colab": {
          "base_uri": "https://localhost:8080/"
        },
        "id": "jBxOhQkWO-sR",
        "outputId": "962f474a-9c3f-4947-d7eb-ed0dd1deaa0c"
      },
      "execution_count": 163,
      "outputs": [
        {
          "output_type": "stream",
          "name": "stdout",
          "text": [
            "Model: \"sequential_7\"\n",
            "_________________________________________________________________\n",
            " Layer (type)                Output Shape              Param #   \n",
            "=================================================================\n",
            " conv2d_1 (Conv2D)           (None, 26, 26, 32)        320       \n",
            "                                                                 \n",
            " conv2d_2 (Conv2D)           (None, 24, 24, 64)        18496     \n",
            "                                                                 \n",
            " max_pooling2d_1 (MaxPooling  (None, 12, 12, 64)       0         \n",
            " 2D)                                                             \n",
            "                                                                 \n",
            " dropout_1 (Dropout)         (None, 12, 12, 64)        0         \n",
            "                                                                 \n",
            " flatten_1 (Flatten)         (None, 9216)              0         \n",
            "                                                                 \n",
            " dense_1 (Dense)             (None, 128)               1179776   \n",
            "                                                                 \n",
            " dropout_2 (Dropout)         (None, 128)               0         \n",
            "                                                                 \n",
            " dense_2 (Dense)             (None, 10)                1290      \n",
            "                                                                 \n",
            "=================================================================\n",
            "Total params: 1,199,882\n",
            "Trainable params: 1,199,882\n",
            "Non-trainable params: 0\n",
            "_________________________________________________________________\n"
          ]
        }
      ]
    },
    {
      "cell_type": "markdown",
      "source": [
        "**Load Data**"
      ],
      "metadata": {
        "id": "-iyeSIvZRHi1"
      }
    },
    {
      "cell_type": "code",
      "source": [
        "(x_train, y_train),(x_test, y_test) = fashion_mnist.load_data()\n",
        "x_train = x_train[...,np.newaxis]\n",
        "x_test = x_test[...,np.newaxis]\n",
        "input_shape = (x_train.shape[1],x_train.shape[2],x_train.shape[3])"
      ],
      "metadata": {
        "id": "pfj--g_yPa57"
      },
      "execution_count": 164,
      "outputs": []
    },
    {
      "cell_type": "code",
      "source": [
        "# Make labels categorical\n",
        "num_class = 10\n",
        "y_train = keras.utils.to_categorical(y_train, num_class)\n",
        "y_test = keras.utils.to_categorical(y_test, num_class)"
      ],
      "metadata": {
        "id": "MymTrL9bhk2A"
      },
      "execution_count": 165,
      "outputs": []
    },
    {
      "cell_type": "markdown",
      "source": [
        "**Investigating Model**\n",
        "\n"
      ],
      "metadata": {
        "id": "Kgj98YenUnKt"
      }
    },
    {
      "cell_type": "code",
      "source": [
        "# see activation functions in each layer\n",
        "for i in range(len(model.layers)):\n",
        "  if model.layers[i].count_params() != 0: # check if the layer is of parameters\n",
        "                                          # as this means that we have an activation \n",
        "                                          # function in this layer\n",
        "                                           \n",
        "    print(f'Layer: {i}, Activation function: {model.layers[i].activation}')"
      ],
      "metadata": {
        "colab": {
          "base_uri": "https://localhost:8080/"
        },
        "id": "Em35cImmUmYN",
        "outputId": "bf9ca944-50b5-4624-c1ef-6a74a514296d"
      },
      "execution_count": 166,
      "outputs": [
        {
          "output_type": "stream",
          "name": "stdout",
          "text": [
            "Layer: 0, Activation function: <function relu at 0x7fcf8e34e790>\n",
            "Layer: 1, Activation function: <function relu at 0x7fcf8e34e790>\n",
            "Layer: 5, Activation function: <function relu at 0x7fcf8e34e790>\n",
            "Layer: 7, Activation function: <function softmax at 0x7fcf8e346d30>\n"
          ]
        }
      ]
    },
    {
      "cell_type": "code",
      "source": [
        "# see the kernel sizes in convolutional layers\n",
        "print(f'Kernel sizes are: {model.layers[0].kernel_size}, {model.layers[1].kernel_size}')"
      ],
      "metadata": {
        "colab": {
          "base_uri": "https://localhost:8080/"
        },
        "id": "e0n3UHexW6a0",
        "outputId": "674bf51c-e19a-4f19-cf69-fb10c1a9fd76"
      },
      "execution_count": 167,
      "outputs": [
        {
          "output_type": "stream",
          "name": "stdout",
          "text": [
            "Kernel sizes are: (3, 3), (3, 3)\n"
          ]
        }
      ]
    },
    {
      "cell_type": "code",
      "source": [
        "# see if there is padding and stride size in the convolutional layers\n",
        "print(f'paddings: {model.layers[0].padding}, {model.layers[1].padding}')\n",
        "print(f'Stride sizes are: {model.layers[0].strides}, {model.layers[1].strides}')"
      ],
      "metadata": {
        "colab": {
          "base_uri": "https://localhost:8080/"
        },
        "id": "jsMbe6f2XNGr",
        "outputId": "9b34ae17-aa6d-422d-f8fc-91c59ab781da"
      },
      "execution_count": 168,
      "outputs": [
        {
          "output_type": "stream",
          "name": "stdout",
          "text": [
            "paddings: valid, valid\n",
            "Stride sizes are: (1, 1), (1, 1)\n"
          ]
        }
      ]
    },
    {
      "cell_type": "markdown",
      "source": [
        "Paddings are valid in the convolutional layers, so there is no padding!"
      ],
      "metadata": {
        "id": "8HtVJLIuXmOW"
      }
    },
    {
      "cell_type": "code",
      "source": [
        "# See what maxpooling has\n",
        "print(f'Max Pooling Layer Summary:\\npool size: {model.layers[2].pool_size}\\nstrides: {model.layers[2].strides}\\npadding: {model.layers[2].padding}')"
      ],
      "metadata": {
        "colab": {
          "base_uri": "https://localhost:8080/"
        },
        "id": "7s6vxnK7Yz0i",
        "outputId": "bcd37bf9-3b9f-4a70-d398-160940621f98"
      },
      "execution_count": 169,
      "outputs": [
        {
          "output_type": "stream",
          "name": "stdout",
          "text": [
            "Max Pooling Layer Summary:\n",
            "pool size: (2, 2)\n",
            "strides: (2, 2)\n",
            "padding: valid\n"
          ]
        }
      ]
    },
    {
      "cell_type": "code",
      "source": [
        "# See the rate of dropout\n",
        "print(f'Probabilities of dropouts:\\nLayer {3}: {model.layers[3].rate}\\nLayer {6}: {model.layers[6].rate}')"
      ],
      "metadata": {
        "colab": {
          "base_uri": "https://localhost:8080/"
        },
        "id": "__L2NvThaNsH",
        "outputId": "e2061014-7303-4ee6-e49f-13b634e026a6"
      },
      "execution_count": 170,
      "outputs": [
        {
          "output_type": "stream",
          "name": "stdout",
          "text": [
            "Probabilities of dropouts:\n",
            "Layer 3: 0.25\n",
            "Layer 6: 0.5\n"
          ]
        }
      ]
    },
    {
      "cell_type": "markdown",
      "source": [
        "**Build Functional Model**"
      ],
      "metadata": {
        "id": "TD7KGmt6RfZb"
      }
    },
    {
      "cell_type": "code",
      "source": [
        "model_input = keras.Input(shape=input_shape, name='model_input')\n",
        "model_conv_1 = keras.layers.Conv2D(32,\n",
        "                                  kernel_size = (3,3),\n",
        "                                  strides = (1,1),\n",
        "                                  activation='relu',\n",
        "                                  padding='valid',\n",
        "                                  name = 'conv_layer_1'   \n",
        "                                  )(model_input)\n",
        "\n",
        "model_conv_2 = keras.layers.Conv2D(64,\n",
        "                                  kernel_size = (3,3),\n",
        "                                  strides = (1,1),\n",
        "                                  activation='relu',\n",
        "                                  padding='valid',\n",
        "                                  name = 'conv_layer_2'   \n",
        "                                  )(model_conv_1)\n",
        "\n",
        "model_max_pool = keras.layers.MaxPool2D((2,2), # grid size\n",
        "                                     strides=(2,2), # strides\n",
        "                                     padding='valid',# applies max pooling to whole input\n",
        "                                     name='max_pool_1')(model_conv_2)\n",
        "\n",
        "dropout1 = keras.layers.Dropout(0.25, name='dropout1')(model_max_pool) # see above, why we chose 0.25\n",
        "\n",
        "flatten1 = keras.layers.Flatten(name='flatten_1')(dropout1)\n",
        "\n",
        "dense1 = keras.layers.Dense(128, \n",
        "                                     activation='relu', \n",
        "                                     name='Dense_1')(flatten1)\n",
        "\n",
        "dropout2 = keras.layers.Dropout(0.5, name='dropout2')(dense1) # see above, why we chose 0.25\n",
        "\n",
        "output = keras.layers.Dense(10, # number of classes\n",
        "                                  activation='softmax', \n",
        "                                  name='model_output')(dropout2)"
      ],
      "metadata": {
        "id": "CWnIhIDORe7n"
      },
      "execution_count": 171,
      "outputs": []
    },
    {
      "cell_type": "code",
      "source": [
        "# Make this network a model\n",
        "model_API = keras.Model(model_input, output, name='conv_model_API_aao')"
      ],
      "metadata": {
        "id": "u7kafpdJcAB1"
      },
      "execution_count": 172,
      "outputs": []
    },
    {
      "cell_type": "code",
      "source": [
        "model_API.summary()"
      ],
      "metadata": {
        "colab": {
          "base_uri": "https://localhost:8080/"
        },
        "id": "1JUtgwRmczNI",
        "outputId": "77254491-f471-4f18-bf4b-0884cacd55d7"
      },
      "execution_count": 173,
      "outputs": [
        {
          "output_type": "stream",
          "name": "stdout",
          "text": [
            "Model: \"conv_model_API_aao\"\n",
            "_________________________________________________________________\n",
            " Layer (type)                Output Shape              Param #   \n",
            "=================================================================\n",
            " model_input (InputLayer)    [(None, 28, 28, 1)]       0         \n",
            "                                                                 \n",
            " conv_layer_1 (Conv2D)       (None, 26, 26, 32)        320       \n",
            "                                                                 \n",
            " conv_layer_2 (Conv2D)       (None, 24, 24, 64)        18496     \n",
            "                                                                 \n",
            " max_pool_1 (MaxPooling2D)   (None, 12, 12, 64)        0         \n",
            "                                                                 \n",
            " dropout1 (Dropout)          (None, 12, 12, 64)        0         \n",
            "                                                                 \n",
            " flatten_1 (Flatten)         (None, 9216)              0         \n",
            "                                                                 \n",
            " Dense_1 (Dense)             (None, 128)               1179776   \n",
            "                                                                 \n",
            " dropout2 (Dropout)          (None, 128)               0         \n",
            "                                                                 \n",
            " model_output (Dense)        (None, 10)                1290      \n",
            "                                                                 \n",
            "=================================================================\n",
            "Total params: 1,199,882\n",
            "Trainable params: 1,199,882\n",
            "Non-trainable params: 0\n",
            "_________________________________________________________________\n"
          ]
        }
      ]
    },
    {
      "cell_type": "markdown",
      "source": [
        "As seen from the summary of the model built using Keras API, number of parameters, output shapes are the same as that called model (`model_fashion-mnist_cnn_train2_epoch24.h5`)."
      ],
      "metadata": {
        "id": "1M_GFZg4dVhn"
      }
    },
    {
      "cell_type": "code",
      "source": [
        "# see the model's compiling functions\n",
        "print(f'Models optimizer is {model.optimizer}')\n",
        "#print(f'Learning rate in optimizer is {model.optimizer.learning_rate}')\n",
        "print(f'Models loss function is {model.loss}')\n",
        "#print(f'Models metric is {model.metrics}')"
      ],
      "metadata": {
        "colab": {
          "base_uri": "https://localhost:8080/"
        },
        "id": "HTTSTcU6eKTS",
        "outputId": "894d49c5-926b-423b-b05b-db4ef9057841"
      },
      "execution_count": 174,
      "outputs": [
        {
          "output_type": "stream",
          "name": "stdout",
          "text": [
            "Models optimizer is <keras.optimizers.optimizer_v2.adadelta.Adadelta object at 0x7fceebaeea90>\n",
            "Models loss function is <function categorical_crossentropy at 0x7fcf94f42c10>\n"
          ]
        }
      ]
    },
    {
      "cell_type": "code",
      "source": [
        "model_API.compile(optimizer=keras.optimizers.Adadelta(), loss=keras.losses.CategoricalCrossentropy())"
      ],
      "metadata": {
        "id": "rZIZ3kIAdEeX"
      },
      "execution_count": 175,
      "outputs": []
    },
    {
      "cell_type": "code",
      "source": [
        "history = model_API.fit(x_train, y_train, epochs=24, validation_data=(x_test, y_test), shuffle=True, verbose =1)"
      ],
      "metadata": {
        "colab": {
          "base_uri": "https://localhost:8080/"
        },
        "id": "s3lGQYcafU4Y",
        "outputId": "901e82e5-9121-432b-f052-9e5642aa600e"
      },
      "execution_count": 176,
      "outputs": [
        {
          "output_type": "stream",
          "name": "stdout",
          "text": [
            "Epoch 1/24\n",
            "1875/1875 [==============================] - 19s 5ms/step - loss: 14.5471 - val_loss: 1.4032\n",
            "Epoch 2/24\n",
            "1875/1875 [==============================] - 9s 5ms/step - loss: 3.1510 - val_loss: 1.6406\n",
            "Epoch 3/24\n",
            "1875/1875 [==============================] - 10s 5ms/step - loss: 2.2118 - val_loss: 1.5882\n",
            "Epoch 4/24\n",
            "1875/1875 [==============================] - 10s 5ms/step - loss: 1.9942 - val_loss: 1.4784\n",
            "Epoch 5/24\n",
            "1875/1875 [==============================] - 10s 5ms/step - loss: 1.8680 - val_loss: 1.3548\n",
            "Epoch 6/24\n",
            "1875/1875 [==============================] - 11s 6ms/step - loss: 1.7763 - val_loss: 1.2359\n",
            "Epoch 7/24\n",
            "1875/1875 [==============================] - 10s 5ms/step - loss: 1.6790 - val_loss: 1.1388\n",
            "Epoch 8/24\n",
            "1875/1875 [==============================] - 9s 5ms/step - loss: 1.6148 - val_loss: 1.0585\n",
            "Epoch 9/24\n",
            "1875/1875 [==============================] - 10s 5ms/step - loss: 1.5473 - val_loss: 1.0044\n",
            "Epoch 10/24\n",
            "1875/1875 [==============================] - 10s 5ms/step - loss: 1.5088 - val_loss: 0.9696\n",
            "Epoch 11/24\n",
            "1875/1875 [==============================] - 9s 5ms/step - loss: 1.4581 - val_loss: 0.9321\n",
            "Epoch 12/24\n",
            "1875/1875 [==============================] - 9s 5ms/step - loss: 1.4117 - val_loss: 0.8854\n",
            "Epoch 13/24\n",
            "1875/1875 [==============================] - 10s 5ms/step - loss: 1.3751 - val_loss: 0.8661\n",
            "Epoch 14/24\n",
            "1875/1875 [==============================] - 9s 5ms/step - loss: 1.3454 - val_loss: 0.8404\n",
            "Epoch 15/24\n",
            "1875/1875 [==============================] - 10s 5ms/step - loss: 1.3119 - val_loss: 0.8202\n",
            "Epoch 16/24\n",
            "1875/1875 [==============================] - 9s 5ms/step - loss: 1.2820 - val_loss: 0.8052\n",
            "Epoch 17/24\n",
            "1875/1875 [==============================] - 9s 5ms/step - loss: 1.2574 - val_loss: 0.7807\n",
            "Epoch 18/24\n",
            "1875/1875 [==============================] - 9s 5ms/step - loss: 1.2431 - val_loss: 0.7719\n",
            "Epoch 19/24\n",
            "1875/1875 [==============================] - 10s 5ms/step - loss: 1.2151 - val_loss: 0.7509\n",
            "Epoch 20/24\n",
            "1875/1875 [==============================] - 9s 5ms/step - loss: 1.1968 - val_loss: 0.7417\n",
            "Epoch 21/24\n",
            "1875/1875 [==============================] - 9s 5ms/step - loss: 1.1756 - val_loss: 0.7276\n",
            "Epoch 22/24\n",
            "1875/1875 [==============================] - 9s 5ms/step - loss: 1.1476 - val_loss: 0.7122\n",
            "Epoch 23/24\n",
            "1875/1875 [==============================] - 10s 5ms/step - loss: 1.1237 - val_loss: 0.6987\n",
            "Epoch 24/24\n",
            "1875/1875 [==============================] - 9s 5ms/step - loss: 1.1225 - val_loss: 0.6900\n"
          ]
        }
      ]
    },
    {
      "cell_type": "code",
      "source": [
        "test_error = model_API.evaluate(x_test, y_test, verbose=1)"
      ],
      "metadata": {
        "colab": {
          "base_uri": "https://localhost:8080/"
        },
        "id": "u_Dp8gnvhCNm",
        "outputId": "9ccc6d76-5357-4d8a-a0a4-1d25fed6b134"
      },
      "execution_count": 178,
      "outputs": [
        {
          "output_type": "stream",
          "name": "stdout",
          "text": [
            "313/313 [==============================] - 1s 3ms/step - loss: 0.6900\n"
          ]
        }
      ]
    },
    {
      "cell_type": "markdown",
      "source": [
        "**Evaluate the Accuracy of Model**\n"
      ],
      "metadata": {
        "id": "TOspMrsCi753"
      }
    },
    {
      "cell_type": "code",
      "source": [
        "T = []\n",
        "F = []\n",
        "\n",
        "for iteration in range(200):\n",
        "  x = x_test[iteration,:,:,:]\n",
        "  x = x[np.newaxis, ...]\n",
        "  prediction = model.predict(x)\n",
        "  prediction = np.argmax(prediction)\n",
        "  if prediction == np.where(y_test[iteration] == 1):\n",
        "    T.append(prediction)\n",
        "  else:\n",
        "    F.append(prediction)"
      ],
      "metadata": {
        "colab": {
          "base_uri": "https://localhost:8080/"
        },
        "id": "3rSrFNbbitEc",
        "outputId": "8c7ea5aa-15ba-4ad2-8894-cf7c26007e77"
      },
      "execution_count": 181,
      "outputs": [
        {
          "output_type": "stream",
          "name": "stdout",
          "text": [
            "1/1 [==============================] - 0s 24ms/step\n",
            "1/1 [==============================] - 0s 22ms/step\n",
            "1/1 [==============================] - 0s 27ms/step\n",
            "1/1 [==============================] - 0s 22ms/step\n",
            "1/1 [==============================] - 0s 23ms/step\n",
            "1/1 [==============================] - 0s 25ms/step\n",
            "1/1 [==============================] - 0s 23ms/step\n",
            "1/1 [==============================] - 0s 24ms/step\n",
            "1/1 [==============================] - 0s 24ms/step\n",
            "1/1 [==============================] - 0s 19ms/step\n",
            "1/1 [==============================] - 0s 23ms/step\n",
            "1/1 [==============================] - 0s 23ms/step\n",
            "1/1 [==============================] - 0s 22ms/step\n",
            "1/1 [==============================] - 0s 20ms/step\n",
            "1/1 [==============================] - 0s 26ms/step\n",
            "1/1 [==============================] - 0s 22ms/step\n",
            "1/1 [==============================] - 0s 21ms/step\n",
            "1/1 [==============================] - 0s 23ms/step\n",
            "1/1 [==============================] - 0s 21ms/step\n",
            "1/1 [==============================] - 0s 25ms/step\n",
            "1/1 [==============================] - 0s 33ms/step\n",
            "1/1 [==============================] - 0s 22ms/step\n",
            "1/1 [==============================] - 0s 25ms/step\n",
            "1/1 [==============================] - 0s 21ms/step\n",
            "1/1 [==============================] - 0s 23ms/step\n",
            "1/1 [==============================] - 0s 20ms/step\n",
            "1/1 [==============================] - 0s 21ms/step\n",
            "1/1 [==============================] - 0s 27ms/step\n",
            "1/1 [==============================] - 0s 26ms/step\n",
            "1/1 [==============================] - 0s 35ms/step\n",
            "1/1 [==============================] - 0s 27ms/step\n",
            "1/1 [==============================] - 0s 21ms/step\n",
            "1/1 [==============================] - 0s 21ms/step\n",
            "1/1 [==============================] - 0s 21ms/step\n",
            "1/1 [==============================] - 0s 20ms/step\n",
            "1/1 [==============================] - 0s 24ms/step\n",
            "1/1 [==============================] - 0s 25ms/step\n",
            "1/1 [==============================] - 0s 23ms/step\n",
            "1/1 [==============================] - 0s 23ms/step\n",
            "1/1 [==============================] - 0s 25ms/step\n",
            "1/1 [==============================] - 0s 23ms/step\n",
            "1/1 [==============================] - 0s 21ms/step\n",
            "1/1 [==============================] - 0s 21ms/step\n",
            "1/1 [==============================] - 0s 21ms/step\n",
            "1/1 [==============================] - 0s 24ms/step\n",
            "1/1 [==============================] - 0s 19ms/step\n",
            "1/1 [==============================] - 0s 19ms/step\n",
            "1/1 [==============================] - 0s 22ms/step\n",
            "1/1 [==============================] - 0s 26ms/step\n",
            "1/1 [==============================] - 0s 21ms/step\n",
            "1/1 [==============================] - 0s 21ms/step\n",
            "1/1 [==============================] - 0s 21ms/step\n",
            "1/1 [==============================] - 0s 20ms/step\n",
            "1/1 [==============================] - 0s 24ms/step\n",
            "1/1 [==============================] - 0s 22ms/step\n",
            "1/1 [==============================] - 0s 25ms/step\n",
            "1/1 [==============================] - 0s 21ms/step\n",
            "1/1 [==============================] - 0s 25ms/step\n",
            "1/1 [==============================] - 0s 21ms/step\n",
            "1/1 [==============================] - 0s 23ms/step\n",
            "1/1 [==============================] - 0s 25ms/step\n",
            "1/1 [==============================] - 0s 25ms/step\n",
            "1/1 [==============================] - 0s 23ms/step\n",
            "1/1 [==============================] - 0s 25ms/step\n",
            "1/1 [==============================] - 0s 24ms/step\n",
            "1/1 [==============================] - 0s 23ms/step\n",
            "1/1 [==============================] - 0s 22ms/step\n",
            "1/1 [==============================] - 0s 24ms/step\n",
            "1/1 [==============================] - 0s 22ms/step\n",
            "1/1 [==============================] - 0s 23ms/step\n",
            "1/1 [==============================] - 0s 22ms/step\n",
            "1/1 [==============================] - 0s 23ms/step\n",
            "1/1 [==============================] - 0s 23ms/step\n",
            "1/1 [==============================] - 0s 21ms/step\n",
            "1/1 [==============================] - 0s 30ms/step\n",
            "1/1 [==============================] - 0s 23ms/step\n",
            "1/1 [==============================] - 0s 24ms/step\n",
            "1/1 [==============================] - 0s 22ms/step\n",
            "1/1 [==============================] - 0s 20ms/step\n",
            "1/1 [==============================] - 0s 20ms/step\n",
            "1/1 [==============================] - 0s 22ms/step\n",
            "1/1 [==============================] - 0s 21ms/step\n",
            "1/1 [==============================] - 0s 20ms/step\n",
            "1/1 [==============================] - 0s 24ms/step\n",
            "1/1 [==============================] - 0s 23ms/step\n",
            "1/1 [==============================] - 0s 20ms/step\n",
            "1/1 [==============================] - 0s 20ms/step\n",
            "1/1 [==============================] - 0s 22ms/step\n",
            "1/1 [==============================] - 0s 22ms/step\n",
            "1/1 [==============================] - 0s 24ms/step\n",
            "1/1 [==============================] - 0s 29ms/step\n",
            "1/1 [==============================] - 0s 32ms/step\n",
            "1/1 [==============================] - 0s 31ms/step\n",
            "1/1 [==============================] - 0s 35ms/step\n",
            "1/1 [==============================] - 0s 31ms/step\n",
            "1/1 [==============================] - 0s 32ms/step\n",
            "1/1 [==============================] - 0s 30ms/step\n",
            "1/1 [==============================] - 0s 29ms/step\n",
            "1/1 [==============================] - 0s 27ms/step\n",
            "1/1 [==============================] - 0s 29ms/step\n",
            "1/1 [==============================] - 0s 29ms/step\n",
            "1/1 [==============================] - 0s 29ms/step\n",
            "1/1 [==============================] - 0s 34ms/step\n",
            "1/1 [==============================] - 0s 36ms/step\n",
            "1/1 [==============================] - 0s 31ms/step\n",
            "1/1 [==============================] - 0s 28ms/step\n",
            "1/1 [==============================] - 0s 32ms/step\n",
            "1/1 [==============================] - 0s 35ms/step\n",
            "1/1 [==============================] - 0s 29ms/step\n",
            "1/1 [==============================] - 0s 30ms/step\n",
            "1/1 [==============================] - 0s 36ms/step\n",
            "1/1 [==============================] - 0s 34ms/step\n",
            "1/1 [==============================] - 0s 32ms/step\n",
            "1/1 [==============================] - 0s 29ms/step\n",
            "1/1 [==============================] - 0s 29ms/step\n",
            "1/1 [==============================] - 0s 30ms/step\n",
            "1/1 [==============================] - 0s 31ms/step\n",
            "1/1 [==============================] - 0s 29ms/step\n",
            "1/1 [==============================] - 0s 35ms/step\n",
            "1/1 [==============================] - 0s 29ms/step\n",
            "1/1 [==============================] - 0s 35ms/step\n",
            "1/1 [==============================] - 0s 23ms/step\n",
            "1/1 [==============================] - 0s 23ms/step\n",
            "1/1 [==============================] - 0s 26ms/step\n",
            "1/1 [==============================] - 0s 20ms/step\n",
            "1/1 [==============================] - 0s 21ms/step\n",
            "1/1 [==============================] - 0s 21ms/step\n",
            "1/1 [==============================] - 0s 21ms/step\n",
            "1/1 [==============================] - 0s 24ms/step\n",
            "1/1 [==============================] - 0s 25ms/step\n",
            "1/1 [==============================] - 0s 23ms/step\n",
            "1/1 [==============================] - 0s 23ms/step\n",
            "1/1 [==============================] - 0s 20ms/step\n",
            "1/1 [==============================] - 0s 19ms/step\n",
            "1/1 [==============================] - 0s 21ms/step\n",
            "1/1 [==============================] - 0s 20ms/step\n",
            "1/1 [==============================] - 0s 30ms/step\n",
            "1/1 [==============================] - 0s 25ms/step\n",
            "1/1 [==============================] - 0s 22ms/step\n",
            "1/1 [==============================] - 0s 19ms/step\n",
            "1/1 [==============================] - 0s 20ms/step\n",
            "1/1 [==============================] - 0s 21ms/step\n",
            "1/1 [==============================] - 0s 23ms/step\n",
            "1/1 [==============================] - 0s 23ms/step\n",
            "1/1 [==============================] - 0s 20ms/step\n",
            "1/1 [==============================] - 0s 20ms/step\n",
            "1/1 [==============================] - 0s 21ms/step\n",
            "1/1 [==============================] - 0s 20ms/step\n",
            "1/1 [==============================] - 0s 23ms/step\n",
            "1/1 [==============================] - 0s 19ms/step\n",
            "1/1 [==============================] - 0s 22ms/step\n",
            "1/1 [==============================] - 0s 19ms/step\n",
            "1/1 [==============================] - 0s 21ms/step\n",
            "1/1 [==============================] - 0s 21ms/step\n",
            "1/1 [==============================] - 0s 19ms/step\n",
            "1/1 [==============================] - 0s 21ms/step\n",
            "1/1 [==============================] - 0s 21ms/step\n",
            "1/1 [==============================] - 0s 23ms/step\n",
            "1/1 [==============================] - 0s 19ms/step\n",
            "1/1 [==============================] - 0s 24ms/step\n",
            "1/1 [==============================] - 0s 20ms/step\n",
            "1/1 [==============================] - 0s 22ms/step\n",
            "1/1 [==============================] - 0s 26ms/step\n",
            "1/1 [==============================] - 0s 23ms/step\n",
            "1/1 [==============================] - 0s 21ms/step\n",
            "1/1 [==============================] - 0s 18ms/step\n",
            "1/1 [==============================] - 0s 19ms/step\n",
            "1/1 [==============================] - 0s 21ms/step\n",
            "1/1 [==============================] - 0s 21ms/step\n",
            "1/1 [==============================] - 0s 21ms/step\n",
            "1/1 [==============================] - 0s 22ms/step\n",
            "1/1 [==============================] - 0s 21ms/step\n",
            "1/1 [==============================] - 0s 20ms/step\n",
            "1/1 [==============================] - 0s 21ms/step\n",
            "1/1 [==============================] - 0s 22ms/step\n",
            "1/1 [==============================] - 0s 21ms/step\n",
            "1/1 [==============================] - 0s 28ms/step\n",
            "1/1 [==============================] - 0s 19ms/step\n",
            "1/1 [==============================] - 0s 20ms/step\n",
            "1/1 [==============================] - 0s 22ms/step\n",
            "1/1 [==============================] - 0s 19ms/step\n",
            "1/1 [==============================] - 0s 21ms/step\n",
            "1/1 [==============================] - 0s 23ms/step\n",
            "1/1 [==============================] - 0s 21ms/step\n",
            "1/1 [==============================] - 0s 26ms/step\n",
            "1/1 [==============================] - 0s 19ms/step\n",
            "1/1 [==============================] - 0s 20ms/step\n",
            "1/1 [==============================] - 0s 22ms/step\n",
            "1/1 [==============================] - 0s 20ms/step\n",
            "1/1 [==============================] - 0s 19ms/step\n",
            "1/1 [==============================] - 0s 23ms/step\n",
            "1/1 [==============================] - 0s 24ms/step\n",
            "1/1 [==============================] - 0s 19ms/step\n",
            "1/1 [==============================] - 0s 18ms/step\n",
            "1/1 [==============================] - 0s 22ms/step\n",
            "1/1 [==============================] - 0s 22ms/step\n",
            "1/1 [==============================] - 0s 20ms/step\n",
            "1/1 [==============================] - 0s 25ms/step\n",
            "1/1 [==============================] - 0s 20ms/step\n",
            "1/1 [==============================] - 0s 20ms/step\n"
          ]
        }
      ]
    },
    {
      "cell_type": "code",
      "source": [
        "accuracy = len(T)/(len(T)+len(F))\n",
        "print(f'Accuracy of the model is: {100*accuracy}%')"
      ],
      "metadata": {
        "colab": {
          "base_uri": "https://localhost:8080/"
        },
        "id": "FzEHDzXPjCRd",
        "outputId": "acdbdc8d-5c94-44cd-88b9-3595dbab638b"
      },
      "execution_count": 182,
      "outputs": [
        {
          "output_type": "stream",
          "name": "stdout",
          "text": [
            "Accuracy of the model is: 86.0%\n"
          ]
        }
      ]
    },
    {
      "cell_type": "markdown",
      "source": [
        "As seen we get the same accuracy as the model ready resulted in [here](https://github.com/aaolcay/Convolutional-Neural-Network-Examples/blob/main/Fashion_mnist_Transfer_Learning.ipynb).\n",
        "\n",
        "Mission completed, if you have any question just let me know: olcayazzam@gmail.com.\n",
        "\n",
        "***If you want to use my codes please refer to me: Abdullah Olcay (University of Southampton).***"
      ],
      "metadata": {
        "id": "Umk-49cJjl0g"
      }
    }
  ]
}